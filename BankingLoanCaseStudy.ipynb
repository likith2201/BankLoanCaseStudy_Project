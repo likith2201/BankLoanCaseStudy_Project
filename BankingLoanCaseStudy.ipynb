{
 "cells": [
  {
   "cell_type": "code",
   "execution_count": 1,
   "metadata": {},
   "outputs": [],
   "source": [
    "### Import necessary Libraries \n",
    "import numpy as np\n",
    "import pandas as pd\n",
    "import matplotlib.pyplot as plt\n",
    "import seaborn as sns; sns.set()\n",
    "import pylab \n",
    "\n",
    "%matplotlib inline\n",
    "from scipy import stats\n",
    "\n",
    "# Supress Warnings\n",
    "\n",
    "import warnings\n",
    "warnings.filterwarnings('ignore')"
   ]
  },
  {
   "cell_type": "markdown",
   "metadata": {},
   "source": [
    "# Reading Loan Data Set"
   ]
  },
  {
   "cell_type": "code",
   "execution_count": 2,
   "metadata": {},
   "outputs": [
    {
     "data": {
      "text/html": [
       "<div>\n",
       "<style scoped>\n",
       "    .dataframe tbody tr th:only-of-type {\n",
       "        vertical-align: middle;\n",
       "    }\n",
       "\n",
       "    .dataframe tbody tr th {\n",
       "        vertical-align: top;\n",
       "    }\n",
       "\n",
       "    .dataframe thead th {\n",
       "        text-align: right;\n",
       "    }\n",
       "</style>\n",
       "<table border=\"1\" class=\"dataframe\">\n",
       "  <thead>\n",
       "    <tr style=\"text-align: right;\">\n",
       "      <th></th>\n",
       "      <th>id</th>\n",
       "      <th>member_id</th>\n",
       "      <th>loan_amnt</th>\n",
       "      <th>funded_amnt</th>\n",
       "      <th>funded_amnt_inv</th>\n",
       "      <th>term</th>\n",
       "      <th>int_rate</th>\n",
       "      <th>installment</th>\n",
       "      <th>grade</th>\n",
       "      <th>sub_grade</th>\n",
       "      <th>...</th>\n",
       "      <th>num_tl_90g_dpd_24m</th>\n",
       "      <th>num_tl_op_past_12m</th>\n",
       "      <th>pct_tl_nvr_dlq</th>\n",
       "      <th>percent_bc_gt_75</th>\n",
       "      <th>pub_rec_bankruptcies</th>\n",
       "      <th>tax_liens</th>\n",
       "      <th>tot_hi_cred_lim</th>\n",
       "      <th>total_bal_ex_mort</th>\n",
       "      <th>total_bc_limit</th>\n",
       "      <th>total_il_high_credit_limit</th>\n",
       "    </tr>\n",
       "  </thead>\n",
       "  <tbody>\n",
       "    <tr>\n",
       "      <th>0</th>\n",
       "      <td>1077501</td>\n",
       "      <td>1296599</td>\n",
       "      <td>5000</td>\n",
       "      <td>5000</td>\n",
       "      <td>4975.0</td>\n",
       "      <td>36 months</td>\n",
       "      <td>10.65%</td>\n",
       "      <td>162.87</td>\n",
       "      <td>B</td>\n",
       "      <td>B2</td>\n",
       "      <td>...</td>\n",
       "      <td>NaN</td>\n",
       "      <td>NaN</td>\n",
       "      <td>NaN</td>\n",
       "      <td>NaN</td>\n",
       "      <td>0.0</td>\n",
       "      <td>0.0</td>\n",
       "      <td>NaN</td>\n",
       "      <td>NaN</td>\n",
       "      <td>NaN</td>\n",
       "      <td>NaN</td>\n",
       "    </tr>\n",
       "    <tr>\n",
       "      <th>1</th>\n",
       "      <td>1077430</td>\n",
       "      <td>1314167</td>\n",
       "      <td>2500</td>\n",
       "      <td>2500</td>\n",
       "      <td>2500.0</td>\n",
       "      <td>60 months</td>\n",
       "      <td>15.27%</td>\n",
       "      <td>59.83</td>\n",
       "      <td>C</td>\n",
       "      <td>C4</td>\n",
       "      <td>...</td>\n",
       "      <td>NaN</td>\n",
       "      <td>NaN</td>\n",
       "      <td>NaN</td>\n",
       "      <td>NaN</td>\n",
       "      <td>0.0</td>\n",
       "      <td>0.0</td>\n",
       "      <td>NaN</td>\n",
       "      <td>NaN</td>\n",
       "      <td>NaN</td>\n",
       "      <td>NaN</td>\n",
       "    </tr>\n",
       "    <tr>\n",
       "      <th>2</th>\n",
       "      <td>1077175</td>\n",
       "      <td>1313524</td>\n",
       "      <td>2400</td>\n",
       "      <td>2400</td>\n",
       "      <td>2400.0</td>\n",
       "      <td>36 months</td>\n",
       "      <td>15.96%</td>\n",
       "      <td>84.33</td>\n",
       "      <td>C</td>\n",
       "      <td>C5</td>\n",
       "      <td>...</td>\n",
       "      <td>NaN</td>\n",
       "      <td>NaN</td>\n",
       "      <td>NaN</td>\n",
       "      <td>NaN</td>\n",
       "      <td>0.0</td>\n",
       "      <td>0.0</td>\n",
       "      <td>NaN</td>\n",
       "      <td>NaN</td>\n",
       "      <td>NaN</td>\n",
       "      <td>NaN</td>\n",
       "    </tr>\n",
       "    <tr>\n",
       "      <th>3</th>\n",
       "      <td>1076863</td>\n",
       "      <td>1277178</td>\n",
       "      <td>10000</td>\n",
       "      <td>10000</td>\n",
       "      <td>10000.0</td>\n",
       "      <td>36 months</td>\n",
       "      <td>13.49%</td>\n",
       "      <td>339.31</td>\n",
       "      <td>C</td>\n",
       "      <td>C1</td>\n",
       "      <td>...</td>\n",
       "      <td>NaN</td>\n",
       "      <td>NaN</td>\n",
       "      <td>NaN</td>\n",
       "      <td>NaN</td>\n",
       "      <td>0.0</td>\n",
       "      <td>0.0</td>\n",
       "      <td>NaN</td>\n",
       "      <td>NaN</td>\n",
       "      <td>NaN</td>\n",
       "      <td>NaN</td>\n",
       "    </tr>\n",
       "    <tr>\n",
       "      <th>4</th>\n",
       "      <td>1075358</td>\n",
       "      <td>1311748</td>\n",
       "      <td>3000</td>\n",
       "      <td>3000</td>\n",
       "      <td>3000.0</td>\n",
       "      <td>60 months</td>\n",
       "      <td>12.69%</td>\n",
       "      <td>67.79</td>\n",
       "      <td>B</td>\n",
       "      <td>B5</td>\n",
       "      <td>...</td>\n",
       "      <td>NaN</td>\n",
       "      <td>NaN</td>\n",
       "      <td>NaN</td>\n",
       "      <td>NaN</td>\n",
       "      <td>0.0</td>\n",
       "      <td>0.0</td>\n",
       "      <td>NaN</td>\n",
       "      <td>NaN</td>\n",
       "      <td>NaN</td>\n",
       "      <td>NaN</td>\n",
       "    </tr>\n",
       "    <tr>\n",
       "      <th>5</th>\n",
       "      <td>1075269</td>\n",
       "      <td>1311441</td>\n",
       "      <td>5000</td>\n",
       "      <td>5000</td>\n",
       "      <td>5000.0</td>\n",
       "      <td>36 months</td>\n",
       "      <td>7.90%</td>\n",
       "      <td>156.46</td>\n",
       "      <td>A</td>\n",
       "      <td>A4</td>\n",
       "      <td>...</td>\n",
       "      <td>NaN</td>\n",
       "      <td>NaN</td>\n",
       "      <td>NaN</td>\n",
       "      <td>NaN</td>\n",
       "      <td>0.0</td>\n",
       "      <td>0.0</td>\n",
       "      <td>NaN</td>\n",
       "      <td>NaN</td>\n",
       "      <td>NaN</td>\n",
       "      <td>NaN</td>\n",
       "    </tr>\n",
       "    <tr>\n",
       "      <th>6</th>\n",
       "      <td>1069639</td>\n",
       "      <td>1304742</td>\n",
       "      <td>7000</td>\n",
       "      <td>7000</td>\n",
       "      <td>7000.0</td>\n",
       "      <td>60 months</td>\n",
       "      <td>15.96%</td>\n",
       "      <td>170.08</td>\n",
       "      <td>C</td>\n",
       "      <td>C5</td>\n",
       "      <td>...</td>\n",
       "      <td>NaN</td>\n",
       "      <td>NaN</td>\n",
       "      <td>NaN</td>\n",
       "      <td>NaN</td>\n",
       "      <td>0.0</td>\n",
       "      <td>0.0</td>\n",
       "      <td>NaN</td>\n",
       "      <td>NaN</td>\n",
       "      <td>NaN</td>\n",
       "      <td>NaN</td>\n",
       "    </tr>\n",
       "    <tr>\n",
       "      <th>7</th>\n",
       "      <td>1072053</td>\n",
       "      <td>1288686</td>\n",
       "      <td>3000</td>\n",
       "      <td>3000</td>\n",
       "      <td>3000.0</td>\n",
       "      <td>36 months</td>\n",
       "      <td>18.64%</td>\n",
       "      <td>109.43</td>\n",
       "      <td>E</td>\n",
       "      <td>E1</td>\n",
       "      <td>...</td>\n",
       "      <td>NaN</td>\n",
       "      <td>NaN</td>\n",
       "      <td>NaN</td>\n",
       "      <td>NaN</td>\n",
       "      <td>0.0</td>\n",
       "      <td>0.0</td>\n",
       "      <td>NaN</td>\n",
       "      <td>NaN</td>\n",
       "      <td>NaN</td>\n",
       "      <td>NaN</td>\n",
       "    </tr>\n",
       "    <tr>\n",
       "      <th>8</th>\n",
       "      <td>1071795</td>\n",
       "      <td>1306957</td>\n",
       "      <td>5600</td>\n",
       "      <td>5600</td>\n",
       "      <td>5600.0</td>\n",
       "      <td>60 months</td>\n",
       "      <td>21.28%</td>\n",
       "      <td>152.39</td>\n",
       "      <td>F</td>\n",
       "      <td>F2</td>\n",
       "      <td>...</td>\n",
       "      <td>NaN</td>\n",
       "      <td>NaN</td>\n",
       "      <td>NaN</td>\n",
       "      <td>NaN</td>\n",
       "      <td>0.0</td>\n",
       "      <td>0.0</td>\n",
       "      <td>NaN</td>\n",
       "      <td>NaN</td>\n",
       "      <td>NaN</td>\n",
       "      <td>NaN</td>\n",
       "    </tr>\n",
       "    <tr>\n",
       "      <th>9</th>\n",
       "      <td>1071570</td>\n",
       "      <td>1306721</td>\n",
       "      <td>5375</td>\n",
       "      <td>5375</td>\n",
       "      <td>5350.0</td>\n",
       "      <td>60 months</td>\n",
       "      <td>12.69%</td>\n",
       "      <td>121.45</td>\n",
       "      <td>B</td>\n",
       "      <td>B5</td>\n",
       "      <td>...</td>\n",
       "      <td>NaN</td>\n",
       "      <td>NaN</td>\n",
       "      <td>NaN</td>\n",
       "      <td>NaN</td>\n",
       "      <td>0.0</td>\n",
       "      <td>0.0</td>\n",
       "      <td>NaN</td>\n",
       "      <td>NaN</td>\n",
       "      <td>NaN</td>\n",
       "      <td>NaN</td>\n",
       "    </tr>\n",
       "  </tbody>\n",
       "</table>\n",
       "<p>10 rows × 111 columns</p>\n",
       "</div>"
      ],
      "text/plain": [
       "        id  member_id  loan_amnt  funded_amnt  funded_amnt_inv        term  \\\n",
       "0  1077501    1296599       5000         5000           4975.0   36 months   \n",
       "1  1077430    1314167       2500         2500           2500.0   60 months   \n",
       "2  1077175    1313524       2400         2400           2400.0   36 months   \n",
       "3  1076863    1277178      10000        10000          10000.0   36 months   \n",
       "4  1075358    1311748       3000         3000           3000.0   60 months   \n",
       "5  1075269    1311441       5000         5000           5000.0   36 months   \n",
       "6  1069639    1304742       7000         7000           7000.0   60 months   \n",
       "7  1072053    1288686       3000         3000           3000.0   36 months   \n",
       "8  1071795    1306957       5600         5600           5600.0   60 months   \n",
       "9  1071570    1306721       5375         5375           5350.0   60 months   \n",
       "\n",
       "  int_rate  installment grade sub_grade  ... num_tl_90g_dpd_24m  \\\n",
       "0   10.65%       162.87     B        B2  ...                NaN   \n",
       "1   15.27%        59.83     C        C4  ...                NaN   \n",
       "2   15.96%        84.33     C        C5  ...                NaN   \n",
       "3   13.49%       339.31     C        C1  ...                NaN   \n",
       "4   12.69%        67.79     B        B5  ...                NaN   \n",
       "5    7.90%       156.46     A        A4  ...                NaN   \n",
       "6   15.96%       170.08     C        C5  ...                NaN   \n",
       "7   18.64%       109.43     E        E1  ...                NaN   \n",
       "8   21.28%       152.39     F        F2  ...                NaN   \n",
       "9   12.69%       121.45     B        B5  ...                NaN   \n",
       "\n",
       "  num_tl_op_past_12m pct_tl_nvr_dlq  percent_bc_gt_75 pub_rec_bankruptcies  \\\n",
       "0                NaN            NaN               NaN                  0.0   \n",
       "1                NaN            NaN               NaN                  0.0   \n",
       "2                NaN            NaN               NaN                  0.0   \n",
       "3                NaN            NaN               NaN                  0.0   \n",
       "4                NaN            NaN               NaN                  0.0   \n",
       "5                NaN            NaN               NaN                  0.0   \n",
       "6                NaN            NaN               NaN                  0.0   \n",
       "7                NaN            NaN               NaN                  0.0   \n",
       "8                NaN            NaN               NaN                  0.0   \n",
       "9                NaN            NaN               NaN                  0.0   \n",
       "\n",
       "  tax_liens tot_hi_cred_lim total_bal_ex_mort total_bc_limit  \\\n",
       "0       0.0             NaN               NaN            NaN   \n",
       "1       0.0             NaN               NaN            NaN   \n",
       "2       0.0             NaN               NaN            NaN   \n",
       "3       0.0             NaN               NaN            NaN   \n",
       "4       0.0             NaN               NaN            NaN   \n",
       "5       0.0             NaN               NaN            NaN   \n",
       "6       0.0             NaN               NaN            NaN   \n",
       "7       0.0             NaN               NaN            NaN   \n",
       "8       0.0             NaN               NaN            NaN   \n",
       "9       0.0             NaN               NaN            NaN   \n",
       "\n",
       "  total_il_high_credit_limit  \n",
       "0                        NaN  \n",
       "1                        NaN  \n",
       "2                        NaN  \n",
       "3                        NaN  \n",
       "4                        NaN  \n",
       "5                        NaN  \n",
       "6                        NaN  \n",
       "7                        NaN  \n",
       "8                        NaN  \n",
       "9                        NaN  \n",
       "\n",
       "[10 rows x 111 columns]"
      ]
     },
     "execution_count": 2,
     "metadata": {},
     "output_type": "execute_result"
    }
   ],
   "source": [
    "loandf =pd.read_csv(\"./loan.csv\", index_col=None, na_values=['NA'],sep=',',low_memory=False, encoding = \"latin-1\",parse_dates=['issue_d'])\n",
    "loandf.head(10)"
   ]
  },
  {
   "cell_type": "markdown",
   "metadata": {},
   "source": [
    "##### View the dimensions of the dataframe to get an idea about the dataset"
   ]
  },
  {
   "cell_type": "code",
   "execution_count": 3,
   "metadata": {},
   "outputs": [
    {
     "name": "stdout",
     "output_type": "stream",
     "text": [
      "<class 'pandas.core.frame.DataFrame'>\n",
      "RangeIndex: 39717 entries, 0 to 39716\n",
      "Columns: 111 entries, id to total_il_high_credit_limit\n",
      "dtypes: float64(74), int64(13), object(24)\n",
      "memory usage: 33.6+ MB\n"
     ]
    }
   ],
   "source": [
    "loandf.info()"
   ]
  },
  {
   "cell_type": "code",
   "execution_count": 4,
   "metadata": {},
   "outputs": [
    {
     "data": {
      "text/plain": [
       "<bound method NDFrame.describe of             id  member_id  loan_amnt  funded_amnt  funded_amnt_inv  \\\n",
       "0      1077501    1296599       5000         5000           4975.0   \n",
       "1      1077430    1314167       2500         2500           2500.0   \n",
       "2      1077175    1313524       2400         2400           2400.0   \n",
       "3      1076863    1277178      10000        10000          10000.0   \n",
       "4      1075358    1311748       3000         3000           3000.0   \n",
       "...        ...        ...        ...          ...              ...   \n",
       "39712    92187      92174       2500         2500           1075.0   \n",
       "39713    90665      90607       8500         8500            875.0   \n",
       "39714    90395      90390       5000         5000           1325.0   \n",
       "39715    90376      89243       5000         5000            650.0   \n",
       "39716    87023      86999       7500         7500            800.0   \n",
       "\n",
       "             term int_rate  installment grade sub_grade  ...  \\\n",
       "0       36 months   10.65%       162.87     B        B2  ...   \n",
       "1       60 months   15.27%        59.83     C        C4  ...   \n",
       "2       36 months   15.96%        84.33     C        C5  ...   \n",
       "3       36 months   13.49%       339.31     C        C1  ...   \n",
       "4       60 months   12.69%        67.79     B        B5  ...   \n",
       "...           ...      ...          ...   ...       ...  ...   \n",
       "39712   36 months    8.07%        78.42     A        A4  ...   \n",
       "39713   36 months   10.28%       275.38     C        C1  ...   \n",
       "39714   36 months    8.07%       156.84     A        A4  ...   \n",
       "39715   36 months    7.43%       155.38     A        A2  ...   \n",
       "39716   36 months   13.75%       255.43     E        E2  ...   \n",
       "\n",
       "      num_tl_90g_dpd_24m num_tl_op_past_12m pct_tl_nvr_dlq  percent_bc_gt_75  \\\n",
       "0                    NaN                NaN            NaN               NaN   \n",
       "1                    NaN                NaN            NaN               NaN   \n",
       "2                    NaN                NaN            NaN               NaN   \n",
       "3                    NaN                NaN            NaN               NaN   \n",
       "4                    NaN                NaN            NaN               NaN   \n",
       "...                  ...                ...            ...               ...   \n",
       "39712                NaN                NaN            NaN               NaN   \n",
       "39713                NaN                NaN            NaN               NaN   \n",
       "39714                NaN                NaN            NaN               NaN   \n",
       "39715                NaN                NaN            NaN               NaN   \n",
       "39716                NaN                NaN            NaN               NaN   \n",
       "\n",
       "      pub_rec_bankruptcies tax_liens tot_hi_cred_lim total_bal_ex_mort  \\\n",
       "0                      0.0       0.0             NaN               NaN   \n",
       "1                      0.0       0.0             NaN               NaN   \n",
       "2                      0.0       0.0             NaN               NaN   \n",
       "3                      0.0       0.0             NaN               NaN   \n",
       "4                      0.0       0.0             NaN               NaN   \n",
       "...                    ...       ...             ...               ...   \n",
       "39712                  NaN       NaN             NaN               NaN   \n",
       "39713                  NaN       NaN             NaN               NaN   \n",
       "39714                  NaN       NaN             NaN               NaN   \n",
       "39715                  NaN       NaN             NaN               NaN   \n",
       "39716                  NaN       NaN             NaN               NaN   \n",
       "\n",
       "      total_bc_limit total_il_high_credit_limit  \n",
       "0                NaN                        NaN  \n",
       "1                NaN                        NaN  \n",
       "2                NaN                        NaN  \n",
       "3                NaN                        NaN  \n",
       "4                NaN                        NaN  \n",
       "...              ...                        ...  \n",
       "39712            NaN                        NaN  \n",
       "39713            NaN                        NaN  \n",
       "39714            NaN                        NaN  \n",
       "39715            NaN                        NaN  \n",
       "39716            NaN                        NaN  \n",
       "\n",
       "[39717 rows x 111 columns]>"
      ]
     },
     "execution_count": 4,
     "metadata": {},
     "output_type": "execute_result"
    }
   ],
   "source": [
    "loandf.describe"
   ]
  },
  {
   "cell_type": "code",
   "execution_count": 5,
   "metadata": {},
   "outputs": [
    {
     "data": {
      "text/plain": [
       "(39717, 111)"
      ]
     },
     "execution_count": 5,
     "metadata": {},
     "output_type": "execute_result"
    }
   ],
   "source": [
    "loandf.shape"
   ]
  },
  {
   "cell_type": "markdown",
   "metadata": {},
   "source": [
    "##### Identifying missing data"
   ]
  },
  {
   "cell_type": "code",
   "execution_count": 6,
   "metadata": {},
   "outputs": [
    {
     "data": {
      "text/plain": [
       "id                                0\n",
       "member_id                         0\n",
       "loan_amnt                         0\n",
       "funded_amnt                       0\n",
       "funded_amnt_inv                   0\n",
       "                              ...  \n",
       "tax_liens                        39\n",
       "tot_hi_cred_lim               39717\n",
       "total_bal_ex_mort             39717\n",
       "total_bc_limit                39717\n",
       "total_il_high_credit_limit    39717\n",
       "Length: 111, dtype: int64"
      ]
     },
     "execution_count": 6,
     "metadata": {},
     "output_type": "execute_result"
    }
   ],
   "source": [
    "loandf.isnull().sum()"
   ]
  },
  {
   "cell_type": "markdown",
   "metadata": {},
   "source": [
    "**Check for NA values in dataset**"
   ]
  },
  {
   "cell_type": "code",
   "execution_count": 7,
   "metadata": {},
   "outputs": [
    {
     "data": {
      "text/plain": [
       "id                              0.000000\n",
       "member_id                       0.000000\n",
       "loan_amnt                       0.000000\n",
       "funded_amnt                     0.000000\n",
       "funded_amnt_inv                 0.000000\n",
       "                                 ...    \n",
       "tax_liens                       0.098195\n",
       "tot_hi_cred_lim               100.000000\n",
       "total_bal_ex_mort             100.000000\n",
       "total_bc_limit                100.000000\n",
       "total_il_high_credit_limit    100.000000\n",
       "Length: 111, dtype: float64"
      ]
     },
     "execution_count": 7,
     "metadata": {},
     "output_type": "execute_result"
    }
   ],
   "source": [
    "loandf.isnull().sum()*100/loandf.shape[0] "
   ]
  },
  {
   "cell_type": "markdown",
   "metadata": {},
   "source": [
    "## Perform Data Cleanup\n",
    "\n",
    "##### Drop all the column having null value"
   ]
  },
  {
   "cell_type": "code",
   "execution_count": 8,
   "metadata": {},
   "outputs": [],
   "source": [
    "loandf = loandf.dropna(axis=1, how='all')"
   ]
  },
  {
   "cell_type": "markdown",
   "metadata": {},
   "source": [
    "**Check the % of NAs columnwise**"
   ]
  },
  {
   "cell_type": "code",
   "execution_count": 9,
   "metadata": {},
   "outputs": [
    {
     "data": {
      "text/plain": [
       "id                             0.000000\n",
       "member_id                      0.000000\n",
       "loan_amnt                      0.000000\n",
       "funded_amnt                    0.000000\n",
       "funded_amnt_inv                0.000000\n",
       "term                           0.000000\n",
       "int_rate                       0.000000\n",
       "installment                    0.000000\n",
       "grade                          0.000000\n",
       "sub_grade                      0.000000\n",
       "emp_title                      6.191303\n",
       "emp_length                     2.706650\n",
       "home_ownership                 0.000000\n",
       "annual_inc                     0.000000\n",
       "verification_status            0.000000\n",
       "issue_d                        0.000000\n",
       "loan_status                    0.000000\n",
       "pymnt_plan                     0.000000\n",
       "url                            0.000000\n",
       "desc                          32.580507\n",
       "purpose                        0.000000\n",
       "title                          0.027696\n",
       "zip_code                       0.000000\n",
       "addr_state                     0.000000\n",
       "dti                            0.000000\n",
       "delinq_2yrs                    0.000000\n",
       "earliest_cr_line               0.000000\n",
       "inq_last_6mths                 0.000000\n",
       "mths_since_last_delinq        64.662487\n",
       "mths_since_last_record        92.985372\n",
       "open_acc                       0.000000\n",
       "pub_rec                        0.000000\n",
       "revol_bal                      0.000000\n",
       "revol_util                     0.125891\n",
       "total_acc                      0.000000\n",
       "initial_list_status            0.000000\n",
       "out_prncp                      0.000000\n",
       "out_prncp_inv                  0.000000\n",
       "total_pymnt                    0.000000\n",
       "total_pymnt_inv                0.000000\n",
       "total_rec_prncp                0.000000\n",
       "total_rec_int                  0.000000\n",
       "total_rec_late_fee             0.000000\n",
       "recoveries                     0.000000\n",
       "collection_recovery_fee        0.000000\n",
       "last_pymnt_d                   0.178765\n",
       "last_pymnt_amnt                0.000000\n",
       "next_pymnt_d                  97.129693\n",
       "last_credit_pull_d             0.005036\n",
       "collections_12_mths_ex_med     0.140998\n",
       "policy_code                    0.000000\n",
       "application_type               0.000000\n",
       "acc_now_delinq                 0.000000\n",
       "chargeoff_within_12_mths       0.140998\n",
       "delinq_amnt                    0.000000\n",
       "pub_rec_bankruptcies           1.754916\n",
       "tax_liens                      0.098195\n",
       "dtype: float64"
      ]
     },
     "execution_count": 9,
     "metadata": {},
     "output_type": "execute_result"
    }
   ],
   "source": [
    "loandf.isnull().sum()*100/loandf.shape[0] "
   ]
  },
  {
   "cell_type": "markdown",
   "metadata": {},
   "source": [
    "#### Identify the columns having 50% or more null values and remove such columns"
   ]
  },
  {
   "cell_type": "code",
   "execution_count": 10,
   "metadata": {},
   "outputs": [],
   "source": [
    "loandf = loandf.dropna(thresh=len(loandf) * 0.5, axis=1)"
   ]
  },
  {
   "cell_type": "code",
   "execution_count": 11,
   "metadata": {},
   "outputs": [
    {
     "data": {
      "text/plain": [
       "(39717, 54)"
      ]
     },
     "execution_count": 11,
     "metadata": {},
     "output_type": "execute_result"
    }
   ],
   "source": [
    "loandf.shape"
   ]
  },
  {
   "cell_type": "code",
   "execution_count": 12,
   "metadata": {},
   "outputs": [
    {
     "name": "stdout",
     "output_type": "stream",
     "text": [
      "<class 'pandas.core.frame.DataFrame'>\n",
      "RangeIndex: 39717 entries, 0 to 39716\n",
      "Data columns (total 54 columns):\n",
      " #   Column                      Non-Null Count  Dtype  \n",
      "---  ------                      --------------  -----  \n",
      " 0   id                          39717 non-null  int64  \n",
      " 1   member_id                   39717 non-null  int64  \n",
      " 2   loan_amnt                   39717 non-null  int64  \n",
      " 3   funded_amnt                 39717 non-null  int64  \n",
      " 4   funded_amnt_inv             39717 non-null  float64\n",
      " 5   term                        39717 non-null  object \n",
      " 6   int_rate                    39717 non-null  object \n",
      " 7   installment                 39717 non-null  float64\n",
      " 8   grade                       39717 non-null  object \n",
      " 9   sub_grade                   39717 non-null  object \n",
      " 10  emp_title                   37258 non-null  object \n",
      " 11  emp_length                  38642 non-null  object \n",
      " 12  home_ownership              39717 non-null  object \n",
      " 13  annual_inc                  39717 non-null  float64\n",
      " 14  verification_status         39717 non-null  object \n",
      " 15  issue_d                     39717 non-null  object \n",
      " 16  loan_status                 39717 non-null  object \n",
      " 17  pymnt_plan                  39717 non-null  object \n",
      " 18  url                         39717 non-null  object \n",
      " 19  desc                        26777 non-null  object \n",
      " 20  purpose                     39717 non-null  object \n",
      " 21  title                       39706 non-null  object \n",
      " 22  zip_code                    39717 non-null  object \n",
      " 23  addr_state                  39717 non-null  object \n",
      " 24  dti                         39717 non-null  float64\n",
      " 25  delinq_2yrs                 39717 non-null  int64  \n",
      " 26  earliest_cr_line            39717 non-null  object \n",
      " 27  inq_last_6mths              39717 non-null  int64  \n",
      " 28  open_acc                    39717 non-null  int64  \n",
      " 29  pub_rec                     39717 non-null  int64  \n",
      " 30  revol_bal                   39717 non-null  int64  \n",
      " 31  revol_util                  39667 non-null  object \n",
      " 32  total_acc                   39717 non-null  int64  \n",
      " 33  initial_list_status         39717 non-null  object \n",
      " 34  out_prncp                   39717 non-null  float64\n",
      " 35  out_prncp_inv               39717 non-null  float64\n",
      " 36  total_pymnt                 39717 non-null  float64\n",
      " 37  total_pymnt_inv             39717 non-null  float64\n",
      " 38  total_rec_prncp             39717 non-null  float64\n",
      " 39  total_rec_int               39717 non-null  float64\n",
      " 40  total_rec_late_fee          39717 non-null  float64\n",
      " 41  recoveries                  39717 non-null  float64\n",
      " 42  collection_recovery_fee     39717 non-null  float64\n",
      " 43  last_pymnt_d                39646 non-null  object \n",
      " 44  last_pymnt_amnt             39717 non-null  float64\n",
      " 45  last_credit_pull_d          39715 non-null  object \n",
      " 46  collections_12_mths_ex_med  39661 non-null  float64\n",
      " 47  policy_code                 39717 non-null  int64  \n",
      " 48  application_type            39717 non-null  object \n",
      " 49  acc_now_delinq              39717 non-null  int64  \n",
      " 50  chargeoff_within_12_mths    39661 non-null  float64\n",
      " 51  delinq_amnt                 39717 non-null  int64  \n",
      " 52  pub_rec_bankruptcies        39020 non-null  float64\n",
      " 53  tax_liens                   39678 non-null  float64\n",
      "dtypes: float64(18), int64(13), object(23)\n",
      "memory usage: 16.4+ MB\n"
     ]
    }
   ],
   "source": [
    "loandf.info()"
   ]
  },
  {
   "cell_type": "code",
   "execution_count": 13,
   "metadata": {},
   "outputs": [
    {
     "data": {
      "text/plain": [
       "True"
      ]
     },
     "execution_count": 13,
     "metadata": {},
     "output_type": "execute_result"
    }
   ],
   "source": [
    "sum(loandf.duplicated(subset = \"id\")) == 0"
   ]
  },
  {
   "cell_type": "markdown",
   "metadata": {},
   "source": [
    "Creating Loan Period as a derived variable from term column as Numeric variable"
   ]
  },
  {
   "cell_type": "code",
   "execution_count": 14,
   "metadata": {},
   "outputs": [
    {
     "data": {
      "text/html": [
       "<div>\n",
       "<style scoped>\n",
       "    .dataframe tbody tr th:only-of-type {\n",
       "        vertical-align: middle;\n",
       "    }\n",
       "\n",
       "    .dataframe tbody tr th {\n",
       "        vertical-align: top;\n",
       "    }\n",
       "\n",
       "    .dataframe thead th {\n",
       "        text-align: right;\n",
       "    }\n",
       "</style>\n",
       "<table border=\"1\" class=\"dataframe\">\n",
       "  <thead>\n",
       "    <tr style=\"text-align: right;\">\n",
       "      <th></th>\n",
       "      <th>id</th>\n",
       "      <th>member_id</th>\n",
       "      <th>loan_amnt</th>\n",
       "      <th>funded_amnt</th>\n",
       "      <th>funded_amnt_inv</th>\n",
       "      <th>term</th>\n",
       "      <th>int_rate</th>\n",
       "      <th>installment</th>\n",
       "      <th>grade</th>\n",
       "      <th>sub_grade</th>\n",
       "      <th>...</th>\n",
       "      <th>last_credit_pull_d</th>\n",
       "      <th>collections_12_mths_ex_med</th>\n",
       "      <th>policy_code</th>\n",
       "      <th>application_type</th>\n",
       "      <th>acc_now_delinq</th>\n",
       "      <th>chargeoff_within_12_mths</th>\n",
       "      <th>delinq_amnt</th>\n",
       "      <th>pub_rec_bankruptcies</th>\n",
       "      <th>tax_liens</th>\n",
       "      <th>loanPeriod</th>\n",
       "    </tr>\n",
       "  </thead>\n",
       "  <tbody>\n",
       "    <tr>\n",
       "      <th>0</th>\n",
       "      <td>1077501</td>\n",
       "      <td>1296599</td>\n",
       "      <td>5000</td>\n",
       "      <td>5000</td>\n",
       "      <td>4975.0</td>\n",
       "      <td>36 months</td>\n",
       "      <td>10.65%</td>\n",
       "      <td>162.87</td>\n",
       "      <td>B</td>\n",
       "      <td>B2</td>\n",
       "      <td>...</td>\n",
       "      <td>May-16</td>\n",
       "      <td>0.0</td>\n",
       "      <td>1</td>\n",
       "      <td>INDIVIDUAL</td>\n",
       "      <td>0</td>\n",
       "      <td>0.0</td>\n",
       "      <td>0</td>\n",
       "      <td>0.0</td>\n",
       "      <td>0.0</td>\n",
       "      <td>36</td>\n",
       "    </tr>\n",
       "    <tr>\n",
       "      <th>1</th>\n",
       "      <td>1077430</td>\n",
       "      <td>1314167</td>\n",
       "      <td>2500</td>\n",
       "      <td>2500</td>\n",
       "      <td>2500.0</td>\n",
       "      <td>60 months</td>\n",
       "      <td>15.27%</td>\n",
       "      <td>59.83</td>\n",
       "      <td>C</td>\n",
       "      <td>C4</td>\n",
       "      <td>...</td>\n",
       "      <td>Sep-13</td>\n",
       "      <td>0.0</td>\n",
       "      <td>1</td>\n",
       "      <td>INDIVIDUAL</td>\n",
       "      <td>0</td>\n",
       "      <td>0.0</td>\n",
       "      <td>0</td>\n",
       "      <td>0.0</td>\n",
       "      <td>0.0</td>\n",
       "      <td>60</td>\n",
       "    </tr>\n",
       "    <tr>\n",
       "      <th>2</th>\n",
       "      <td>1077175</td>\n",
       "      <td>1313524</td>\n",
       "      <td>2400</td>\n",
       "      <td>2400</td>\n",
       "      <td>2400.0</td>\n",
       "      <td>36 months</td>\n",
       "      <td>15.96%</td>\n",
       "      <td>84.33</td>\n",
       "      <td>C</td>\n",
       "      <td>C5</td>\n",
       "      <td>...</td>\n",
       "      <td>May-16</td>\n",
       "      <td>0.0</td>\n",
       "      <td>1</td>\n",
       "      <td>INDIVIDUAL</td>\n",
       "      <td>0</td>\n",
       "      <td>0.0</td>\n",
       "      <td>0</td>\n",
       "      <td>0.0</td>\n",
       "      <td>0.0</td>\n",
       "      <td>36</td>\n",
       "    </tr>\n",
       "    <tr>\n",
       "      <th>3</th>\n",
       "      <td>1076863</td>\n",
       "      <td>1277178</td>\n",
       "      <td>10000</td>\n",
       "      <td>10000</td>\n",
       "      <td>10000.0</td>\n",
       "      <td>36 months</td>\n",
       "      <td>13.49%</td>\n",
       "      <td>339.31</td>\n",
       "      <td>C</td>\n",
       "      <td>C1</td>\n",
       "      <td>...</td>\n",
       "      <td>Apr-16</td>\n",
       "      <td>0.0</td>\n",
       "      <td>1</td>\n",
       "      <td>INDIVIDUAL</td>\n",
       "      <td>0</td>\n",
       "      <td>0.0</td>\n",
       "      <td>0</td>\n",
       "      <td>0.0</td>\n",
       "      <td>0.0</td>\n",
       "      <td>36</td>\n",
       "    </tr>\n",
       "    <tr>\n",
       "      <th>4</th>\n",
       "      <td>1075358</td>\n",
       "      <td>1311748</td>\n",
       "      <td>3000</td>\n",
       "      <td>3000</td>\n",
       "      <td>3000.0</td>\n",
       "      <td>60 months</td>\n",
       "      <td>12.69%</td>\n",
       "      <td>67.79</td>\n",
       "      <td>B</td>\n",
       "      <td>B5</td>\n",
       "      <td>...</td>\n",
       "      <td>May-16</td>\n",
       "      <td>0.0</td>\n",
       "      <td>1</td>\n",
       "      <td>INDIVIDUAL</td>\n",
       "      <td>0</td>\n",
       "      <td>0.0</td>\n",
       "      <td>0</td>\n",
       "      <td>0.0</td>\n",
       "      <td>0.0</td>\n",
       "      <td>60</td>\n",
       "    </tr>\n",
       "    <tr>\n",
       "      <th>5</th>\n",
       "      <td>1075269</td>\n",
       "      <td>1311441</td>\n",
       "      <td>5000</td>\n",
       "      <td>5000</td>\n",
       "      <td>5000.0</td>\n",
       "      <td>36 months</td>\n",
       "      <td>7.90%</td>\n",
       "      <td>156.46</td>\n",
       "      <td>A</td>\n",
       "      <td>A4</td>\n",
       "      <td>...</td>\n",
       "      <td>Jan-16</td>\n",
       "      <td>0.0</td>\n",
       "      <td>1</td>\n",
       "      <td>INDIVIDUAL</td>\n",
       "      <td>0</td>\n",
       "      <td>0.0</td>\n",
       "      <td>0</td>\n",
       "      <td>0.0</td>\n",
       "      <td>0.0</td>\n",
       "      <td>36</td>\n",
       "    </tr>\n",
       "    <tr>\n",
       "      <th>6</th>\n",
       "      <td>1069639</td>\n",
       "      <td>1304742</td>\n",
       "      <td>7000</td>\n",
       "      <td>7000</td>\n",
       "      <td>7000.0</td>\n",
       "      <td>60 months</td>\n",
       "      <td>15.96%</td>\n",
       "      <td>170.08</td>\n",
       "      <td>C</td>\n",
       "      <td>C5</td>\n",
       "      <td>...</td>\n",
       "      <td>May-16</td>\n",
       "      <td>0.0</td>\n",
       "      <td>1</td>\n",
       "      <td>INDIVIDUAL</td>\n",
       "      <td>0</td>\n",
       "      <td>0.0</td>\n",
       "      <td>0</td>\n",
       "      <td>0.0</td>\n",
       "      <td>0.0</td>\n",
       "      <td>60</td>\n",
       "    </tr>\n",
       "    <tr>\n",
       "      <th>7</th>\n",
       "      <td>1072053</td>\n",
       "      <td>1288686</td>\n",
       "      <td>3000</td>\n",
       "      <td>3000</td>\n",
       "      <td>3000.0</td>\n",
       "      <td>36 months</td>\n",
       "      <td>18.64%</td>\n",
       "      <td>109.43</td>\n",
       "      <td>E</td>\n",
       "      <td>E1</td>\n",
       "      <td>...</td>\n",
       "      <td>Dec-14</td>\n",
       "      <td>0.0</td>\n",
       "      <td>1</td>\n",
       "      <td>INDIVIDUAL</td>\n",
       "      <td>0</td>\n",
       "      <td>0.0</td>\n",
       "      <td>0</td>\n",
       "      <td>0.0</td>\n",
       "      <td>0.0</td>\n",
       "      <td>36</td>\n",
       "    </tr>\n",
       "    <tr>\n",
       "      <th>8</th>\n",
       "      <td>1071795</td>\n",
       "      <td>1306957</td>\n",
       "      <td>5600</td>\n",
       "      <td>5600</td>\n",
       "      <td>5600.0</td>\n",
       "      <td>60 months</td>\n",
       "      <td>21.28%</td>\n",
       "      <td>152.39</td>\n",
       "      <td>F</td>\n",
       "      <td>F2</td>\n",
       "      <td>...</td>\n",
       "      <td>Aug-12</td>\n",
       "      <td>0.0</td>\n",
       "      <td>1</td>\n",
       "      <td>INDIVIDUAL</td>\n",
       "      <td>0</td>\n",
       "      <td>0.0</td>\n",
       "      <td>0</td>\n",
       "      <td>0.0</td>\n",
       "      <td>0.0</td>\n",
       "      <td>60</td>\n",
       "    </tr>\n",
       "    <tr>\n",
       "      <th>9</th>\n",
       "      <td>1071570</td>\n",
       "      <td>1306721</td>\n",
       "      <td>5375</td>\n",
       "      <td>5375</td>\n",
       "      <td>5350.0</td>\n",
       "      <td>60 months</td>\n",
       "      <td>12.69%</td>\n",
       "      <td>121.45</td>\n",
       "      <td>B</td>\n",
       "      <td>B5</td>\n",
       "      <td>...</td>\n",
       "      <td>Mar-13</td>\n",
       "      <td>0.0</td>\n",
       "      <td>1</td>\n",
       "      <td>INDIVIDUAL</td>\n",
       "      <td>0</td>\n",
       "      <td>0.0</td>\n",
       "      <td>0</td>\n",
       "      <td>0.0</td>\n",
       "      <td>0.0</td>\n",
       "      <td>60</td>\n",
       "    </tr>\n",
       "  </tbody>\n",
       "</table>\n",
       "<p>10 rows × 55 columns</p>\n",
       "</div>"
      ],
      "text/plain": [
       "        id  member_id  loan_amnt  funded_amnt  funded_amnt_inv        term  \\\n",
       "0  1077501    1296599       5000         5000           4975.0   36 months   \n",
       "1  1077430    1314167       2500         2500           2500.0   60 months   \n",
       "2  1077175    1313524       2400         2400           2400.0   36 months   \n",
       "3  1076863    1277178      10000        10000          10000.0   36 months   \n",
       "4  1075358    1311748       3000         3000           3000.0   60 months   \n",
       "5  1075269    1311441       5000         5000           5000.0   36 months   \n",
       "6  1069639    1304742       7000         7000           7000.0   60 months   \n",
       "7  1072053    1288686       3000         3000           3000.0   36 months   \n",
       "8  1071795    1306957       5600         5600           5600.0   60 months   \n",
       "9  1071570    1306721       5375         5375           5350.0   60 months   \n",
       "\n",
       "  int_rate  installment grade sub_grade  ... last_credit_pull_d  \\\n",
       "0   10.65%       162.87     B        B2  ...             May-16   \n",
       "1   15.27%        59.83     C        C4  ...             Sep-13   \n",
       "2   15.96%        84.33     C        C5  ...             May-16   \n",
       "3   13.49%       339.31     C        C1  ...             Apr-16   \n",
       "4   12.69%        67.79     B        B5  ...             May-16   \n",
       "5    7.90%       156.46     A        A4  ...             Jan-16   \n",
       "6   15.96%       170.08     C        C5  ...             May-16   \n",
       "7   18.64%       109.43     E        E1  ...             Dec-14   \n",
       "8   21.28%       152.39     F        F2  ...             Aug-12   \n",
       "9   12.69%       121.45     B        B5  ...             Mar-13   \n",
       "\n",
       "  collections_12_mths_ex_med policy_code  application_type acc_now_delinq  \\\n",
       "0                        0.0           1        INDIVIDUAL              0   \n",
       "1                        0.0           1        INDIVIDUAL              0   \n",
       "2                        0.0           1        INDIVIDUAL              0   \n",
       "3                        0.0           1        INDIVIDUAL              0   \n",
       "4                        0.0           1        INDIVIDUAL              0   \n",
       "5                        0.0           1        INDIVIDUAL              0   \n",
       "6                        0.0           1        INDIVIDUAL              0   \n",
       "7                        0.0           1        INDIVIDUAL              0   \n",
       "8                        0.0           1        INDIVIDUAL              0   \n",
       "9                        0.0           1        INDIVIDUAL              0   \n",
       "\n",
       "  chargeoff_within_12_mths delinq_amnt pub_rec_bankruptcies tax_liens  \\\n",
       "0                      0.0           0                  0.0       0.0   \n",
       "1                      0.0           0                  0.0       0.0   \n",
       "2                      0.0           0                  0.0       0.0   \n",
       "3                      0.0           0                  0.0       0.0   \n",
       "4                      0.0           0                  0.0       0.0   \n",
       "5                      0.0           0                  0.0       0.0   \n",
       "6                      0.0           0                  0.0       0.0   \n",
       "7                      0.0           0                  0.0       0.0   \n",
       "8                      0.0           0                  0.0       0.0   \n",
       "9                      0.0           0                  0.0       0.0   \n",
       "\n",
       "  loanPeriod  \n",
       "0         36  \n",
       "1         60  \n",
       "2         36  \n",
       "3         36  \n",
       "4         60  \n",
       "5         36  \n",
       "6         60  \n",
       "7         36  \n",
       "8         60  \n",
       "9         60  \n",
       "\n",
       "[10 rows x 55 columns]"
      ]
     },
     "execution_count": 14,
     "metadata": {},
     "output_type": "execute_result"
    }
   ],
   "source": [
    "loandf['loanPeriod'] = loandf['term'].str[1:4].astype(int)\n",
    "loandf.head(10)"
   ]
  },
  {
   "cell_type": "markdown",
   "metadata": {},
   "source": [
    "Create a derived attribute zip_code_num based on column zip_code which contain only numeric value."
   ]
  },
  {
   "cell_type": "code",
   "execution_count": 15,
   "metadata": {},
   "outputs": [],
   "source": [
    "loandf[\"zip_code_num\"] = loandf[\"zip_code\"].str.replace('x','')\n",
    "loandf[\"zip_code_num\"] = loandf[\"zip_code_num\"].astype(int)"
   ]
  },
  {
   "cell_type": "markdown",
   "metadata": {},
   "source": [
    "Identify the unique value counts in the dataframe"
   ]
  },
  {
   "cell_type": "code",
   "execution_count": 16,
   "metadata": {},
   "outputs": [
    {
     "data": {
      "text/plain": [
       "id                            39717\n",
       "member_id                     39717\n",
       "loan_amnt                       885\n",
       "funded_amnt                    1041\n",
       "funded_amnt_inv                8205\n",
       "term                              2\n",
       "int_rate                        371\n",
       "installment                   15383\n",
       "grade                             7\n",
       "sub_grade                        35\n",
       "emp_title                     28820\n",
       "emp_length                       11\n",
       "home_ownership                    5\n",
       "annual_inc                     5318\n",
       "verification_status               3\n",
       "issue_d                          55\n",
       "loan_status                       3\n",
       "pymnt_plan                        1\n",
       "url                           39717\n",
       "desc                          26527\n",
       "purpose                          14\n",
       "title                         19615\n",
       "zip_code                        823\n",
       "addr_state                       50\n",
       "dti                            2868\n",
       "delinq_2yrs                      11\n",
       "earliest_cr_line                526\n",
       "inq_last_6mths                    9\n",
       "open_acc                         40\n",
       "pub_rec                           5\n",
       "revol_bal                     21711\n",
       "revol_util                     1089\n",
       "total_acc                        82\n",
       "initial_list_status               1\n",
       "out_prncp                      1137\n",
       "out_prncp_inv                  1138\n",
       "total_pymnt                   37850\n",
       "total_pymnt_inv               37518\n",
       "total_rec_prncp                7976\n",
       "total_rec_int                 35148\n",
       "total_rec_late_fee             1356\n",
       "recoveries                     4040\n",
       "collection_recovery_fee        2616\n",
       "last_pymnt_d                    101\n",
       "last_pymnt_amnt               34930\n",
       "last_credit_pull_d              106\n",
       "collections_12_mths_ex_med        1\n",
       "policy_code                       1\n",
       "application_type                  1\n",
       "acc_now_delinq                    1\n",
       "chargeoff_within_12_mths          1\n",
       "delinq_amnt                       1\n",
       "pub_rec_bankruptcies              3\n",
       "tax_liens                         1\n",
       "loanPeriod                        2\n",
       "zip_code_num                    823\n",
       "dtype: int64"
      ]
     },
     "execution_count": 16,
     "metadata": {},
     "output_type": "execute_result"
    }
   ],
   "source": [
    "loandf.nunique()"
   ]
  },
  {
   "cell_type": "markdown",
   "metadata": {},
   "source": [
    "Remove columns with only 1 uniques value as it will not add much value to analysis"
   ]
  },
  {
   "cell_type": "code",
   "execution_count": 17,
   "metadata": {},
   "outputs": [],
   "source": [
    "loandf = loandf.loc[:, loandf.nunique() != 1]"
   ]
  },
  {
   "cell_type": "markdown",
   "metadata": {},
   "source": [
    "Check the dimensions of the dataframe once again"
   ]
  },
  {
   "cell_type": "code",
   "execution_count": 18,
   "metadata": {},
   "outputs": [
    {
     "data": {
      "text/plain": [
       "(39717, 47)"
      ]
     },
     "execution_count": 18,
     "metadata": {},
     "output_type": "execute_result"
    }
   ],
   "source": [
    "loandf.shape"
   ]
  },
  {
   "cell_type": "markdown",
   "metadata": {},
   "source": [
    "Drop few columns 'emp_title', 'url' ,'desc', 'title', 'zip_code', 'term' as it does not add much value for the analysis"
   ]
  },
  {
   "cell_type": "code",
   "execution_count": 19,
   "metadata": {},
   "outputs": [],
   "source": [
    "loandf = loandf.drop([ 'emp_title', 'url' ,'desc', 'title', 'zip_code', 'term'], axis=1)"
   ]
  },
  {
   "cell_type": "markdown",
   "metadata": {},
   "source": [
    "View dataframe"
   ]
  },
  {
   "cell_type": "code",
   "execution_count": 20,
   "metadata": {},
   "outputs": [
    {
     "name": "stdout",
     "output_type": "stream",
     "text": [
      "<class 'pandas.core.frame.DataFrame'>\n",
      "RangeIndex: 39717 entries, 0 to 39716\n",
      "Data columns (total 41 columns):\n",
      " #   Column                   Non-Null Count  Dtype  \n",
      "---  ------                   --------------  -----  \n",
      " 0   id                       39717 non-null  int64  \n",
      " 1   member_id                39717 non-null  int64  \n",
      " 2   loan_amnt                39717 non-null  int64  \n",
      " 3   funded_amnt              39717 non-null  int64  \n",
      " 4   funded_amnt_inv          39717 non-null  float64\n",
      " 5   int_rate                 39717 non-null  object \n",
      " 6   installment              39717 non-null  float64\n",
      " 7   grade                    39717 non-null  object \n",
      " 8   sub_grade                39717 non-null  object \n",
      " 9   emp_length               38642 non-null  object \n",
      " 10  home_ownership           39717 non-null  object \n",
      " 11  annual_inc               39717 non-null  float64\n",
      " 12  verification_status      39717 non-null  object \n",
      " 13  issue_d                  39717 non-null  object \n",
      " 14  loan_status              39717 non-null  object \n",
      " 15  purpose                  39717 non-null  object \n",
      " 16  addr_state               39717 non-null  object \n",
      " 17  dti                      39717 non-null  float64\n",
      " 18  delinq_2yrs              39717 non-null  int64  \n",
      " 19  earliest_cr_line         39717 non-null  object \n",
      " 20  inq_last_6mths           39717 non-null  int64  \n",
      " 21  open_acc                 39717 non-null  int64  \n",
      " 22  pub_rec                  39717 non-null  int64  \n",
      " 23  revol_bal                39717 non-null  int64  \n",
      " 24  revol_util               39667 non-null  object \n",
      " 25  total_acc                39717 non-null  int64  \n",
      " 26  out_prncp                39717 non-null  float64\n",
      " 27  out_prncp_inv            39717 non-null  float64\n",
      " 28  total_pymnt              39717 non-null  float64\n",
      " 29  total_pymnt_inv          39717 non-null  float64\n",
      " 30  total_rec_prncp          39717 non-null  float64\n",
      " 31  total_rec_int            39717 non-null  float64\n",
      " 32  total_rec_late_fee       39717 non-null  float64\n",
      " 33  recoveries               39717 non-null  float64\n",
      " 34  collection_recovery_fee  39717 non-null  float64\n",
      " 35  last_pymnt_d             39646 non-null  object \n",
      " 36  last_pymnt_amnt          39717 non-null  float64\n",
      " 37  last_credit_pull_d       39715 non-null  object \n",
      " 38  pub_rec_bankruptcies     39020 non-null  float64\n",
      " 39  loanPeriod               39717 non-null  int32  \n",
      " 40  zip_code_num             39717 non-null  int32  \n",
      "dtypes: float64(15), int32(2), int64(10), object(14)\n",
      "memory usage: 12.1+ MB\n"
     ]
    }
   ],
   "source": [
    "loandf.info()"
   ]
  },
  {
   "cell_type": "markdown",
   "metadata": {},
   "source": [
    "##### Verify column earliest_cr_line -The month the borrower's earliest reported credit line was opened"
   ]
  },
  {
   "cell_type": "code",
   "execution_count": 21,
   "metadata": {},
   "outputs": [
    {
     "data": {
      "text/plain": [
       "0        Jan-85\n",
       "1        Apr-99\n",
       "2        Nov-01\n",
       "3        Feb-96\n",
       "4        Jan-96\n",
       "          ...  \n",
       "39712    Nov-90\n",
       "39713    Dec-86\n",
       "39714    Oct-98\n",
       "39715    Nov-88\n",
       "39716    Oct-03\n",
       "Name: earliest_cr_line, Length: 39717, dtype: object"
      ]
     },
     "execution_count": 21,
     "metadata": {},
     "output_type": "execute_result"
    }
   ],
   "source": [
    "loandf['earliest_cr_line']"
   ]
  },
  {
   "cell_type": "markdown",
   "metadata": {},
   "source": [
    "##### As this information does not add much value for our analysis we can drop this column"
   ]
  },
  {
   "cell_type": "code",
   "execution_count": 22,
   "metadata": {},
   "outputs": [],
   "source": [
    "loandf = loandf.drop(['earliest_cr_line'],axis =1)"
   ]
  },
  {
   "cell_type": "code",
   "execution_count": 23,
   "metadata": {},
   "outputs": [
    {
     "name": "stdout",
     "output_type": "stream",
     "text": [
      "<class 'pandas.core.frame.DataFrame'>\n",
      "RangeIndex: 39717 entries, 0 to 39716\n",
      "Data columns (total 40 columns):\n",
      " #   Column                   Non-Null Count  Dtype  \n",
      "---  ------                   --------------  -----  \n",
      " 0   id                       39717 non-null  int64  \n",
      " 1   member_id                39717 non-null  int64  \n",
      " 2   loan_amnt                39717 non-null  int64  \n",
      " 3   funded_amnt              39717 non-null  int64  \n",
      " 4   funded_amnt_inv          39717 non-null  float64\n",
      " 5   int_rate                 39717 non-null  object \n",
      " 6   installment              39717 non-null  float64\n",
      " 7   grade                    39717 non-null  object \n",
      " 8   sub_grade                39717 non-null  object \n",
      " 9   emp_length               38642 non-null  object \n",
      " 10  home_ownership           39717 non-null  object \n",
      " 11  annual_inc               39717 non-null  float64\n",
      " 12  verification_status      39717 non-null  object \n",
      " 13  issue_d                  39717 non-null  object \n",
      " 14  loan_status              39717 non-null  object \n",
      " 15  purpose                  39717 non-null  object \n",
      " 16  addr_state               39717 non-null  object \n",
      " 17  dti                      39717 non-null  float64\n",
      " 18  delinq_2yrs              39717 non-null  int64  \n",
      " 19  inq_last_6mths           39717 non-null  int64  \n",
      " 20  open_acc                 39717 non-null  int64  \n",
      " 21  pub_rec                  39717 non-null  int64  \n",
      " 22  revol_bal                39717 non-null  int64  \n",
      " 23  revol_util               39667 non-null  object \n",
      " 24  total_acc                39717 non-null  int64  \n",
      " 25  out_prncp                39717 non-null  float64\n",
      " 26  out_prncp_inv            39717 non-null  float64\n",
      " 27  total_pymnt              39717 non-null  float64\n",
      " 28  total_pymnt_inv          39717 non-null  float64\n",
      " 29  total_rec_prncp          39717 non-null  float64\n",
      " 30  total_rec_int            39717 non-null  float64\n",
      " 31  total_rec_late_fee       39717 non-null  float64\n",
      " 32  recoveries               39717 non-null  float64\n",
      " 33  collection_recovery_fee  39717 non-null  float64\n",
      " 34  last_pymnt_d             39646 non-null  object \n",
      " 35  last_pymnt_amnt          39717 non-null  float64\n",
      " 36  last_credit_pull_d       39715 non-null  object \n",
      " 37  pub_rec_bankruptcies     39020 non-null  float64\n",
      " 38  loanPeriod               39717 non-null  int32  \n",
      " 39  zip_code_num             39717 non-null  int32  \n",
      "dtypes: float64(15), int32(2), int64(10), object(13)\n",
      "memory usage: 11.8+ MB\n"
     ]
    }
   ],
   "source": [
    "loandf.info()"
   ]
  },
  {
   "cell_type": "markdown",
   "metadata": {},
   "source": [
    "#### As the dataset contains the information about past loan applicants and whether they ‘defaulted’ or not. The aim is to identify patterns which indicate if a person is likely to default, which may be used for taking actions such as denying the loan, reducing the amount of loan, lending (to risky applicants) at a higher interest rate, etc.\n",
    "\n",
    "##### Here we need to identify and understand which consumer attributes and loan attributes influence the tendency of default.\n",
    "\n",
    "#### We will analyze all customer and loan attribute and find the impact of this attribute on loan status, whether fully paid or defaulted\n",
    "\n",
    "\n",
    "          Verify the loan status and count the number of records for each status. \n",
    "          Here Status Charged Off corresponds to loan default"
   ]
  },
  {
   "cell_type": "code",
   "execution_count": 24,
   "metadata": {},
   "outputs": [
    {
     "data": {
      "text/plain": [
       "Fully Paid     32950\n",
       "Charged Off     5627\n",
       "Current         1140\n",
       "Name: loan_status, dtype: int64"
      ]
     },
     "execution_count": 24,
     "metadata": {},
     "output_type": "execute_result"
    }
   ],
   "source": [
    "loandf['loan_status'].value_counts()"
   ]
  },
  {
   "cell_type": "markdown",
   "metadata": {},
   "source": [
    "#####   Pie Chart for  distribution of loan status"
   ]
  },
  {
   "cell_type": "code",
   "execution_count": 25,
   "metadata": {},
   "outputs": [
    {
     "data": {
      "image/png": "[encoded data removed]",
      "text/plain": [
       "<Figure size 576x576 with 1 Axes>"
      ]
     },
     "metadata": {},
     "output_type": "display_data"
    }
   ],
   "source": [
    "sns.set(style=\"whitegrid\")\n",
    "\n",
    "\n",
    "plt.figure(figsize=(8, 8))\n",
    "loan_status_counts = loandf['loan_status'].value_counts()\n",
    "plt.pie(loan_status_counts, labels=loan_status_counts.index, autopct='%1.2f%%', startangle=90, colors=['lightcoral', 'lightblue','lightgreen'])\n",
    "plt.title('Distribution of Loan Status')\n",
    "plt.show()"
   ]
  },
  {
   "cell_type": "markdown",
   "metadata": {},
   "source": [
    "View the dataSet for loan purpose and find number of record for each purpose"
   ]
  },
  {
   "cell_type": "code",
   "execution_count": 26,
   "metadata": {},
   "outputs": [
    {
     "data": {
      "text/plain": [
       "debt_consolidation    18641\n",
       "credit_card            5130\n",
       "other                  3993\n",
       "home_improvement       2976\n",
       "major_purchase         2187\n",
       "small_business         1828\n",
       "car                    1549\n",
       "wedding                 947\n",
       "medical                 693\n",
       "moving                  583\n",
       "vacation                381\n",
       "house                   381\n",
       "educational             325\n",
       "renewable_energy        103\n",
       "Name: purpose, dtype: int64"
      ]
     },
     "execution_count": 26,
     "metadata": {},
     "output_type": "execute_result"
    }
   ],
   "source": [
    "loandf['purpose'].value_counts()"
   ]
  },
  {
   "cell_type": "markdown",
   "metadata": {},
   "source": [
    "#####   Countplot for loan Purpose"
   ]
  },
  {
   "cell_type": "code",
   "execution_count": 27,
   "metadata": {},
   "outputs": [
    {
     "data": {
      "image/png": "[encoded data removed]",
      "text/plain": [
       "<Figure size 1440x1080 with 1 Axes>"
      ]
     },
     "metadata": {},
     "output_type": "display_data"
    }
   ],
   "source": [
    "plt.figure(figsize=(20, 15))\n",
    "ax = sns.countplot(x=\"purpose\", data=loandf)\n",
    "ax.set_xticklabels(ax.get_xticklabels(), rotation=45, ha='right') \n",
    "for p in ax.patches:\n",
    "    height = p.get_height()\n",
    "    ax.text(p.get_x() + p.get_width()/2., height + 0.5, '{:1.2f}'.format(height), ha=\"center\")\n",
    "\n",
    "plt.show()"
   ]
  },
  {
   "cell_type": "markdown",
   "metadata": {},
   "source": [
    "###   Lets check how loan purpose impacts the loan status\n",
    "\n",
    "#### Create pivot table loandf_purpose from given loan dataset for Loan status and Loan Purpose"
   ]
  },
  {
   "cell_type": "code",
   "execution_count": 28,
   "metadata": {},
   "outputs": [
    {
     "data": {
      "text/html": [
       "<div>\n",
       "<style scoped>\n",
       "    .dataframe tbody tr th:only-of-type {\n",
       "        vertical-align: middle;\n",
       "    }\n",
       "\n",
       "    .dataframe tbody tr th {\n",
       "        vertical-align: top;\n",
       "    }\n",
       "\n",
       "    .dataframe thead th {\n",
       "        text-align: right;\n",
       "    }\n",
       "</style>\n",
       "<table border=\"1\" class=\"dataframe\">\n",
       "  <thead>\n",
       "    <tr style=\"text-align: right;\">\n",
       "      <th>loan_status</th>\n",
       "      <th>Charged Off</th>\n",
       "      <th>Current</th>\n",
       "      <th>Fully Paid</th>\n",
       "    </tr>\n",
       "    <tr>\n",
       "      <th>purpose</th>\n",
       "      <th></th>\n",
       "      <th></th>\n",
       "      <th></th>\n",
       "    </tr>\n",
       "  </thead>\n",
       "  <tbody>\n",
       "    <tr>\n",
       "      <th>car</th>\n",
       "      <td>160.0</td>\n",
       "      <td>50.0</td>\n",
       "      <td>1339.0</td>\n",
       "    </tr>\n",
       "    <tr>\n",
       "      <th>credit_card</th>\n",
       "      <td>542.0</td>\n",
       "      <td>103.0</td>\n",
       "      <td>4485.0</td>\n",
       "    </tr>\n",
       "    <tr>\n",
       "      <th>debt_consolidation</th>\n",
       "      <td>2767.0</td>\n",
       "      <td>586.0</td>\n",
       "      <td>15288.0</td>\n",
       "    </tr>\n",
       "    <tr>\n",
       "      <th>educational</th>\n",
       "      <td>56.0</td>\n",
       "      <td>NaN</td>\n",
       "      <td>269.0</td>\n",
       "    </tr>\n",
       "    <tr>\n",
       "      <th>home_improvement</th>\n",
       "      <td>347.0</td>\n",
       "      <td>101.0</td>\n",
       "      <td>2528.0</td>\n",
       "    </tr>\n",
       "    <tr>\n",
       "      <th>house</th>\n",
       "      <td>59.0</td>\n",
       "      <td>14.0</td>\n",
       "      <td>308.0</td>\n",
       "    </tr>\n",
       "    <tr>\n",
       "      <th>major_purchase</th>\n",
       "      <td>222.0</td>\n",
       "      <td>37.0</td>\n",
       "      <td>1928.0</td>\n",
       "    </tr>\n",
       "    <tr>\n",
       "      <th>medical</th>\n",
       "      <td>106.0</td>\n",
       "      <td>12.0</td>\n",
       "      <td>575.0</td>\n",
       "    </tr>\n",
       "    <tr>\n",
       "      <th>moving</th>\n",
       "      <td>92.0</td>\n",
       "      <td>7.0</td>\n",
       "      <td>484.0</td>\n",
       "    </tr>\n",
       "    <tr>\n",
       "      <th>other</th>\n",
       "      <td>633.0</td>\n",
       "      <td>128.0</td>\n",
       "      <td>3232.0</td>\n",
       "    </tr>\n",
       "    <tr>\n",
       "      <th>renewable_energy</th>\n",
       "      <td>19.0</td>\n",
       "      <td>1.0</td>\n",
       "      <td>83.0</td>\n",
       "    </tr>\n",
       "    <tr>\n",
       "      <th>small_business</th>\n",
       "      <td>475.0</td>\n",
       "      <td>74.0</td>\n",
       "      <td>1279.0</td>\n",
       "    </tr>\n",
       "    <tr>\n",
       "      <th>vacation</th>\n",
       "      <td>53.0</td>\n",
       "      <td>6.0</td>\n",
       "      <td>322.0</td>\n",
       "    </tr>\n",
       "    <tr>\n",
       "      <th>wedding</th>\n",
       "      <td>96.0</td>\n",
       "      <td>21.0</td>\n",
       "      <td>830.0</td>\n",
       "    </tr>\n",
       "  </tbody>\n",
       "</table>\n",
       "</div>"
      ],
      "text/plain": [
       "loan_status         Charged Off  Current  Fully Paid\n",
       "purpose                                             \n",
       "car                       160.0     50.0      1339.0\n",
       "credit_card               542.0    103.0      4485.0\n",
       "debt_consolidation       2767.0    586.0     15288.0\n",
       "educational                56.0      NaN       269.0\n",
       "home_improvement          347.0    101.0      2528.0\n",
       "house                      59.0     14.0       308.0\n",
       "major_purchase            222.0     37.0      1928.0\n",
       "medical                   106.0     12.0       575.0\n",
       "moving                     92.0      7.0       484.0\n",
       "other                     633.0    128.0      3232.0\n",
       "renewable_energy           19.0      1.0        83.0\n",
       "small_business            475.0     74.0      1279.0\n",
       "vacation                   53.0      6.0       322.0\n",
       "wedding                    96.0     21.0       830.0"
      ]
     },
     "execution_count": 28,
     "metadata": {},
     "output_type": "execute_result"
    }
   ],
   "source": [
    "loandf_purpose = pd.pivot_table(loandf, values='loan_amnt', index='purpose', columns='loan_status', aggfunc='count')\n",
    "loandf_purpose"
   ]
  },
  {
   "cell_type": "markdown",
   "metadata": {},
   "source": [
    "###   Perform data cleaning for pivot table loandf_purpose\n",
    "\n",
    "#### Replace the NaN value with 0"
   ]
  },
  {
   "cell_type": "code",
   "execution_count": 29,
   "metadata": {},
   "outputs": [
    {
     "data": {
      "text/html": [
       "<div>\n",
       "<style scoped>\n",
       "    .dataframe tbody tr th:only-of-type {\n",
       "        vertical-align: middle;\n",
       "    }\n",
       "\n",
       "    .dataframe tbody tr th {\n",
       "        vertical-align: top;\n",
       "    }\n",
       "\n",
       "    .dataframe thead th {\n",
       "        text-align: right;\n",
       "    }\n",
       "</style>\n",
       "<table border=\"1\" class=\"dataframe\">\n",
       "  <thead>\n",
       "    <tr style=\"text-align: right;\">\n",
       "      <th>loan_status</th>\n",
       "      <th>Charged Off</th>\n",
       "      <th>Current</th>\n",
       "      <th>Fully Paid</th>\n",
       "    </tr>\n",
       "    <tr>\n",
       "      <th>purpose</th>\n",
       "      <th></th>\n",
       "      <th></th>\n",
       "      <th></th>\n",
       "    </tr>\n",
       "  </thead>\n",
       "  <tbody>\n",
       "    <tr>\n",
       "      <th>car</th>\n",
       "      <td>160.0</td>\n",
       "      <td>50.0</td>\n",
       "      <td>1339.0</td>\n",
       "    </tr>\n",
       "    <tr>\n",
       "      <th>credit_card</th>\n",
       "      <td>542.0</td>\n",
       "      <td>103.0</td>\n",
       "      <td>4485.0</td>\n",
       "    </tr>\n",
       "    <tr>\n",
       "      <th>debt_consolidation</th>\n",
       "      <td>2767.0</td>\n",
       "      <td>586.0</td>\n",
       "      <td>15288.0</td>\n",
       "    </tr>\n",
       "    <tr>\n",
       "      <th>educational</th>\n",
       "      <td>56.0</td>\n",
       "      <td>0.0</td>\n",
       "      <td>269.0</td>\n",
       "    </tr>\n",
       "    <tr>\n",
       "      <th>home_improvement</th>\n",
       "      <td>347.0</td>\n",
       "      <td>101.0</td>\n",
       "      <td>2528.0</td>\n",
       "    </tr>\n",
       "    <tr>\n",
       "      <th>house</th>\n",
       "      <td>59.0</td>\n",
       "      <td>14.0</td>\n",
       "      <td>308.0</td>\n",
       "    </tr>\n",
       "    <tr>\n",
       "      <th>major_purchase</th>\n",
       "      <td>222.0</td>\n",
       "      <td>37.0</td>\n",
       "      <td>1928.0</td>\n",
       "    </tr>\n",
       "    <tr>\n",
       "      <th>medical</th>\n",
       "      <td>106.0</td>\n",
       "      <td>12.0</td>\n",
       "      <td>575.0</td>\n",
       "    </tr>\n",
       "    <tr>\n",
       "      <th>moving</th>\n",
       "      <td>92.0</td>\n",
       "      <td>7.0</td>\n",
       "      <td>484.0</td>\n",
       "    </tr>\n",
       "    <tr>\n",
       "      <th>other</th>\n",
       "      <td>633.0</td>\n",
       "      <td>128.0</td>\n",
       "      <td>3232.0</td>\n",
       "    </tr>\n",
       "    <tr>\n",
       "      <th>renewable_energy</th>\n",
       "      <td>19.0</td>\n",
       "      <td>1.0</td>\n",
       "      <td>83.0</td>\n",
       "    </tr>\n",
       "    <tr>\n",
       "      <th>small_business</th>\n",
       "      <td>475.0</td>\n",
       "      <td>74.0</td>\n",
       "      <td>1279.0</td>\n",
       "    </tr>\n",
       "    <tr>\n",
       "      <th>vacation</th>\n",
       "      <td>53.0</td>\n",
       "      <td>6.0</td>\n",
       "      <td>322.0</td>\n",
       "    </tr>\n",
       "    <tr>\n",
       "      <th>wedding</th>\n",
       "      <td>96.0</td>\n",
       "      <td>21.0</td>\n",
       "      <td>830.0</td>\n",
       "    </tr>\n",
       "  </tbody>\n",
       "</table>\n",
       "</div>"
      ],
      "text/plain": [
       "loan_status         Charged Off  Current  Fully Paid\n",
       "purpose                                             \n",
       "car                       160.0     50.0      1339.0\n",
       "credit_card               542.0    103.0      4485.0\n",
       "debt_consolidation       2767.0    586.0     15288.0\n",
       "educational                56.0      0.0       269.0\n",
       "home_improvement          347.0    101.0      2528.0\n",
       "house                      59.0     14.0       308.0\n",
       "major_purchase            222.0     37.0      1928.0\n",
       "medical                   106.0     12.0       575.0\n",
       "moving                     92.0      7.0       484.0\n",
       "other                     633.0    128.0      3232.0\n",
       "renewable_energy           19.0      1.0        83.0\n",
       "small_business            475.0     74.0      1279.0\n",
       "vacation                   53.0      6.0       322.0\n",
       "wedding                    96.0     21.0       830.0"
      ]
     },
     "execution_count": 29,
     "metadata": {},
     "output_type": "execute_result"
    }
   ],
   "source": [
    "loandf_purpose.loc[pd.isnull(loandf_purpose['Current']), ['Current']] = 0\n",
    "loandf_purpose"
   ]
  },
  {
   "cell_type": "markdown",
   "metadata": {},
   "source": [
    "#### Adding new columns Aggregate and percentage of loan for each status for given purpose to pivot table "
   ]
  },
  {
   "cell_type": "code",
   "execution_count": 30,
   "metadata": {},
   "outputs": [
    {
     "data": {
      "text/html": [
       "<div>\n",
       "<style scoped>\n",
       "    .dataframe tbody tr th:only-of-type {\n",
       "        vertical-align: middle;\n",
       "    }\n",
       "\n",
       "    .dataframe tbody tr th {\n",
       "        vertical-align: top;\n",
       "    }\n",
       "\n",
       "    .dataframe thead th {\n",
       "        text-align: right;\n",
       "    }\n",
       "</style>\n",
       "<table border=\"1\" class=\"dataframe\">\n",
       "  <thead>\n",
       "    <tr style=\"text-align: right;\">\n",
       "      <th>loan_status</th>\n",
       "      <th>Charged Off</th>\n",
       "      <th>Current</th>\n",
       "      <th>Fully Paid</th>\n",
       "      <th>Aggregate</th>\n",
       "      <th>Charged Off%</th>\n",
       "      <th>Current%</th>\n",
       "      <th>Fully Paid %</th>\n",
       "    </tr>\n",
       "    <tr>\n",
       "      <th>purpose</th>\n",
       "      <th></th>\n",
       "      <th></th>\n",
       "      <th></th>\n",
       "      <th></th>\n",
       "      <th></th>\n",
       "      <th></th>\n",
       "      <th></th>\n",
       "    </tr>\n",
       "  </thead>\n",
       "  <tbody>\n",
       "    <tr>\n",
       "      <th>car</th>\n",
       "      <td>160.0</td>\n",
       "      <td>50.0</td>\n",
       "      <td>1339.0</td>\n",
       "      <td>1549.0</td>\n",
       "      <td>10.33</td>\n",
       "      <td>3.23</td>\n",
       "      <td>86.44</td>\n",
       "    </tr>\n",
       "    <tr>\n",
       "      <th>credit_card</th>\n",
       "      <td>542.0</td>\n",
       "      <td>103.0</td>\n",
       "      <td>4485.0</td>\n",
       "      <td>5130.0</td>\n",
       "      <td>10.57</td>\n",
       "      <td>2.01</td>\n",
       "      <td>87.43</td>\n",
       "    </tr>\n",
       "    <tr>\n",
       "      <th>debt_consolidation</th>\n",
       "      <td>2767.0</td>\n",
       "      <td>586.0</td>\n",
       "      <td>15288.0</td>\n",
       "      <td>18641.0</td>\n",
       "      <td>14.84</td>\n",
       "      <td>3.14</td>\n",
       "      <td>82.01</td>\n",
       "    </tr>\n",
       "    <tr>\n",
       "      <th>educational</th>\n",
       "      <td>56.0</td>\n",
       "      <td>0.0</td>\n",
       "      <td>269.0</td>\n",
       "      <td>325.0</td>\n",
       "      <td>17.23</td>\n",
       "      <td>0.00</td>\n",
       "      <td>82.77</td>\n",
       "    </tr>\n",
       "    <tr>\n",
       "      <th>home_improvement</th>\n",
       "      <td>347.0</td>\n",
       "      <td>101.0</td>\n",
       "      <td>2528.0</td>\n",
       "      <td>2976.0</td>\n",
       "      <td>11.66</td>\n",
       "      <td>3.39</td>\n",
       "      <td>84.95</td>\n",
       "    </tr>\n",
       "    <tr>\n",
       "      <th>house</th>\n",
       "      <td>59.0</td>\n",
       "      <td>14.0</td>\n",
       "      <td>308.0</td>\n",
       "      <td>381.0</td>\n",
       "      <td>15.49</td>\n",
       "      <td>3.67</td>\n",
       "      <td>80.84</td>\n",
       "    </tr>\n",
       "    <tr>\n",
       "      <th>major_purchase</th>\n",
       "      <td>222.0</td>\n",
       "      <td>37.0</td>\n",
       "      <td>1928.0</td>\n",
       "      <td>2187.0</td>\n",
       "      <td>10.15</td>\n",
       "      <td>1.69</td>\n",
       "      <td>88.16</td>\n",
       "    </tr>\n",
       "    <tr>\n",
       "      <th>medical</th>\n",
       "      <td>106.0</td>\n",
       "      <td>12.0</td>\n",
       "      <td>575.0</td>\n",
       "      <td>693.0</td>\n",
       "      <td>15.30</td>\n",
       "      <td>1.73</td>\n",
       "      <td>82.97</td>\n",
       "    </tr>\n",
       "    <tr>\n",
       "      <th>moving</th>\n",
       "      <td>92.0</td>\n",
       "      <td>7.0</td>\n",
       "      <td>484.0</td>\n",
       "      <td>583.0</td>\n",
       "      <td>15.78</td>\n",
       "      <td>1.20</td>\n",
       "      <td>83.02</td>\n",
       "    </tr>\n",
       "    <tr>\n",
       "      <th>other</th>\n",
       "      <td>633.0</td>\n",
       "      <td>128.0</td>\n",
       "      <td>3232.0</td>\n",
       "      <td>3993.0</td>\n",
       "      <td>15.85</td>\n",
       "      <td>3.21</td>\n",
       "      <td>80.94</td>\n",
       "    </tr>\n",
       "    <tr>\n",
       "      <th>renewable_energy</th>\n",
       "      <td>19.0</td>\n",
       "      <td>1.0</td>\n",
       "      <td>83.0</td>\n",
       "      <td>103.0</td>\n",
       "      <td>18.45</td>\n",
       "      <td>0.97</td>\n",
       "      <td>80.58</td>\n",
       "    </tr>\n",
       "    <tr>\n",
       "      <th>small_business</th>\n",
       "      <td>475.0</td>\n",
       "      <td>74.0</td>\n",
       "      <td>1279.0</td>\n",
       "      <td>1828.0</td>\n",
       "      <td>25.98</td>\n",
       "      <td>4.05</td>\n",
       "      <td>69.97</td>\n",
       "    </tr>\n",
       "    <tr>\n",
       "      <th>vacation</th>\n",
       "      <td>53.0</td>\n",
       "      <td>6.0</td>\n",
       "      <td>322.0</td>\n",
       "      <td>381.0</td>\n",
       "      <td>13.91</td>\n",
       "      <td>1.57</td>\n",
       "      <td>84.51</td>\n",
       "    </tr>\n",
       "    <tr>\n",
       "      <th>wedding</th>\n",
       "      <td>96.0</td>\n",
       "      <td>21.0</td>\n",
       "      <td>830.0</td>\n",
       "      <td>947.0</td>\n",
       "      <td>10.14</td>\n",
       "      <td>2.22</td>\n",
       "      <td>87.65</td>\n",
       "    </tr>\n",
       "  </tbody>\n",
       "</table>\n",
       "</div>"
      ],
      "text/plain": [
       "loan_status         Charged Off  Current  Fully Paid  Aggregate  Charged Off%  \\\n",
       "purpose                                                                         \n",
       "car                       160.0     50.0      1339.0     1549.0         10.33   \n",
       "credit_card               542.0    103.0      4485.0     5130.0         10.57   \n",
       "debt_consolidation       2767.0    586.0     15288.0    18641.0         14.84   \n",
       "educational                56.0      0.0       269.0      325.0         17.23   \n",
       "home_improvement          347.0    101.0      2528.0     2976.0         11.66   \n",
       "house                      59.0     14.0       308.0      381.0         15.49   \n",
       "major_purchase            222.0     37.0      1928.0     2187.0         10.15   \n",
       "medical                   106.0     12.0       575.0      693.0         15.30   \n",
       "moving                     92.0      7.0       484.0      583.0         15.78   \n",
       "other                     633.0    128.0      3232.0     3993.0         15.85   \n",
       "renewable_energy           19.0      1.0        83.0      103.0         18.45   \n",
       "small_business            475.0     74.0      1279.0     1828.0         25.98   \n",
       "vacation                   53.0      6.0       322.0      381.0         13.91   \n",
       "wedding                    96.0     21.0       830.0      947.0         10.14   \n",
       "\n",
       "loan_status         Current%  Fully Paid %  \n",
       "purpose                                     \n",
       "car                     3.23         86.44  \n",
       "credit_card             2.01         87.43  \n",
       "debt_consolidation      3.14         82.01  \n",
       "educational             0.00         82.77  \n",
       "home_improvement        3.39         84.95  \n",
       "house                   3.67         80.84  \n",
       "major_purchase          1.69         88.16  \n",
       "medical                 1.73         82.97  \n",
       "moving                  1.20         83.02  \n",
       "other                   3.21         80.94  \n",
       "renewable_energy        0.97         80.58  \n",
       "small_business          4.05         69.97  \n",
       "vacation                1.57         84.51  \n",
       "wedding                 2.22         87.65  "
      ]
     },
     "execution_count": 30,
     "metadata": {},
     "output_type": "execute_result"
    }
   ],
   "source": [
    "loandf_purpose['Aggregate'] = loandf_purpose['Charged Off'] + loandf_purpose['Current'] + loandf_purpose['Fully Paid']\n",
    "loandf_purpose['Charged Off%'] = round(loandf_purpose['Charged Off']/loandf_purpose['Aggregate'] *100, 2)\n",
    "loandf_purpose['Current%'] = round(loandf_purpose['Current']/loandf_purpose['Aggregate'] *100, 2)\n",
    "loandf_purpose['Fully Paid %'] = round(loandf_purpose['Fully Paid']/loandf_purpose['Aggregate'] *100, 2)\n",
    "loandf_purpose"
   ]
  },
  {
   "cell_type": "markdown",
   "metadata": {},
   "source": [
    "#### Barplot for loan purpose for percentage of loan charged off ( Defaulted)"
   ]
  },
  {
   "cell_type": "code",
   "execution_count": 31,
   "metadata": {},
   "outputs": [
    {
     "data": {
      "image/png": "[encoded data removed]",
      "text/plain": [
       "<Figure size 1440x576 with 1 Axes>"
      ]
     },
     "metadata": {},
     "output_type": "display_data"
    }
   ],
   "source": [
    "plt.figure(figsize=(20, 8))\n",
    "plt.title('Loan Default w.r.t purpose of loan')\n",
    "ax=sns.barplot(x='purpose',y = \"Charged Off%\", data=loandf_purpose.reset_index())\n",
    "ax.set_xticklabels(ax.get_xticklabels(), rotation=45, ha='right') \n",
    "for p in ax.patches:\n",
    "    height = p.get_height()\n",
    "    ax.text(p.get_x()+p.get_width()/2., height + 0.5,'{:1.2f}'.format(height), ha=\"center\") "
   ]
  },
  {
   "cell_type": "code",
   "execution_count": 32,
   "metadata": {},
   "outputs": [
    {
     "data": {
      "text/plain": [
       "36    29096\n",
       "60    10621\n",
       "Name: loanPeriod, dtype: int64"
      ]
     },
     "execution_count": 32,
     "metadata": {},
     "output_type": "execute_result"
    }
   ],
   "source": [
    "loandf['loanPeriod'].value_counts()"
   ]
  },
  {
   "cell_type": "code",
   "execution_count": 33,
   "metadata": {},
   "outputs": [
    {
     "data": {
      "image/png": "[encoded data removed]",
      "text/plain": [
       "<Figure size 720x576 with 1 Axes>"
      ]
     },
     "metadata": {},
     "output_type": "display_data"
    }
   ],
   "source": [
    "from matplotlib.pyplot import show\n",
    "plt.figure(figsize=(10, 8))\n",
    "ax=sns.countplot(x = \"loanPeriod\", hue = \"loan_status\", data = loandf)\n",
    "\n",
    "for p in ax.patches:\n",
    "    height = p.get_height()\n",
    "    ax.text(p.get_x()+p.get_width()/2., height + 0.5,'{:1.2f}'.format(height), ha=\"center\") \n",
    "    ax.set_xlabel(\"Loan Period (in Months)\")\n",
    "    show()\n",
    "\n"
   ]
  },
  {
   "cell_type": "code",
   "execution_count": 34,
   "metadata": {},
   "outputs": [
    {
     "data": {
      "text/html": [
       "<div>\n",
       "<style scoped>\n",
       "    .dataframe tbody tr th:only-of-type {\n",
       "        vertical-align: middle;\n",
       "    }\n",
       "\n",
       "    .dataframe tbody tr th {\n",
       "        vertical-align: top;\n",
       "    }\n",
       "\n",
       "    .dataframe thead th {\n",
       "        text-align: right;\n",
       "    }\n",
       "</style>\n",
       "<table border=\"1\" class=\"dataframe\">\n",
       "  <thead>\n",
       "    <tr style=\"text-align: right;\">\n",
       "      <th>loan_status</th>\n",
       "      <th>Charged Off</th>\n",
       "      <th>Current</th>\n",
       "      <th>Fully Paid</th>\n",
       "    </tr>\n",
       "    <tr>\n",
       "      <th>loanPeriod</th>\n",
       "      <th></th>\n",
       "      <th></th>\n",
       "      <th></th>\n",
       "    </tr>\n",
       "  </thead>\n",
       "  <tbody>\n",
       "    <tr>\n",
       "      <th>36</th>\n",
       "      <td>3227.0</td>\n",
       "      <td>NaN</td>\n",
       "      <td>25869.0</td>\n",
       "    </tr>\n",
       "    <tr>\n",
       "      <th>60</th>\n",
       "      <td>2400.0</td>\n",
       "      <td>1140.0</td>\n",
       "      <td>7081.0</td>\n",
       "    </tr>\n",
       "  </tbody>\n",
       "</table>\n",
       "</div>"
      ],
      "text/plain": [
       "loan_status  Charged Off  Current  Fully Paid\n",
       "loanPeriod                                   \n",
       "36                3227.0      NaN     25869.0\n",
       "60                2400.0   1140.0      7081.0"
      ]
     },
     "execution_count": 34,
     "metadata": {},
     "output_type": "execute_result"
    }
   ],
   "source": [
    "loandf_duration = pd.pivot_table(loandf, values='loan_amnt', index='loanPeriod', columns='loan_status', aggfunc='count')\n",
    "loandf_duration"
   ]
  },
  {
   "cell_type": "code",
   "execution_count": 35,
   "metadata": {},
   "outputs": [
    {
     "data": {
      "text/html": [
       "<div>\n",
       "<style scoped>\n",
       "    .dataframe tbody tr th:only-of-type {\n",
       "        vertical-align: middle;\n",
       "    }\n",
       "\n",
       "    .dataframe tbody tr th {\n",
       "        vertical-align: top;\n",
       "    }\n",
       "\n",
       "    .dataframe thead th {\n",
       "        text-align: right;\n",
       "    }\n",
       "</style>\n",
       "<table border=\"1\" class=\"dataframe\">\n",
       "  <thead>\n",
       "    <tr style=\"text-align: right;\">\n",
       "      <th>loan_status</th>\n",
       "      <th>Charged Off</th>\n",
       "      <th>Current</th>\n",
       "      <th>Fully Paid</th>\n",
       "    </tr>\n",
       "    <tr>\n",
       "      <th>loanPeriod</th>\n",
       "      <th></th>\n",
       "      <th></th>\n",
       "      <th></th>\n",
       "    </tr>\n",
       "  </thead>\n",
       "  <tbody>\n",
       "    <tr>\n",
       "      <th>36</th>\n",
       "      <td>3227.0</td>\n",
       "      <td>0.0</td>\n",
       "      <td>25869.0</td>\n",
       "    </tr>\n",
       "    <tr>\n",
       "      <th>60</th>\n",
       "      <td>2400.0</td>\n",
       "      <td>1140.0</td>\n",
       "      <td>7081.0</td>\n",
       "    </tr>\n",
       "  </tbody>\n",
       "</table>\n",
       "</div>"
      ],
      "text/plain": [
       "loan_status  Charged Off  Current  Fully Paid\n",
       "loanPeriod                                   \n",
       "36                3227.0      0.0     25869.0\n",
       "60                2400.0   1140.0      7081.0"
      ]
     },
     "execution_count": 35,
     "metadata": {},
     "output_type": "execute_result"
    }
   ],
   "source": [
    "loandf_duration.loc[pd.isnull(loandf_duration['Current']), ['Current']] = 0\n",
    "loandf_duration"
   ]
  },
  {
   "cell_type": "code",
   "execution_count": 36,
   "metadata": {},
   "outputs": [
    {
     "data": {
      "text/html": [
       "<div>\n",
       "<style scoped>\n",
       "    .dataframe tbody tr th:only-of-type {\n",
       "        vertical-align: middle;\n",
       "    }\n",
       "\n",
       "    .dataframe tbody tr th {\n",
       "        vertical-align: top;\n",
       "    }\n",
       "\n",
       "    .dataframe thead th {\n",
       "        text-align: right;\n",
       "    }\n",
       "</style>\n",
       "<table border=\"1\" class=\"dataframe\">\n",
       "  <thead>\n",
       "    <tr style=\"text-align: right;\">\n",
       "      <th>loan_status</th>\n",
       "      <th>Charged Off</th>\n",
       "      <th>Current</th>\n",
       "      <th>Fully Paid</th>\n",
       "      <th>Aggregate</th>\n",
       "      <th>Charged Off%</th>\n",
       "      <th>Current%</th>\n",
       "      <th>Fully Paid %</th>\n",
       "    </tr>\n",
       "    <tr>\n",
       "      <th>loanPeriod</th>\n",
       "      <th></th>\n",
       "      <th></th>\n",
       "      <th></th>\n",
       "      <th></th>\n",
       "      <th></th>\n",
       "      <th></th>\n",
       "      <th></th>\n",
       "    </tr>\n",
       "  </thead>\n",
       "  <tbody>\n",
       "    <tr>\n",
       "      <th>36</th>\n",
       "      <td>3227.0</td>\n",
       "      <td>0.0</td>\n",
       "      <td>25869.0</td>\n",
       "      <td>29096.0</td>\n",
       "      <td>11.09</td>\n",
       "      <td>0.00</td>\n",
       "      <td>88.91</td>\n",
       "    </tr>\n",
       "    <tr>\n",
       "      <th>60</th>\n",
       "      <td>2400.0</td>\n",
       "      <td>1140.0</td>\n",
       "      <td>7081.0</td>\n",
       "      <td>10621.0</td>\n",
       "      <td>22.60</td>\n",
       "      <td>10.73</td>\n",
       "      <td>66.67</td>\n",
       "    </tr>\n",
       "  </tbody>\n",
       "</table>\n",
       "</div>"
      ],
      "text/plain": [
       "loan_status  Charged Off  Current  Fully Paid  Aggregate  Charged Off%  \\\n",
       "loanPeriod                                                               \n",
       "36                3227.0      0.0     25869.0    29096.0         11.09   \n",
       "60                2400.0   1140.0      7081.0    10621.0         22.60   \n",
       "\n",
       "loan_status  Current%  Fully Paid %  \n",
       "loanPeriod                           \n",
       "36               0.00         88.91  \n",
       "60              10.73         66.67  "
      ]
     },
     "execution_count": 36,
     "metadata": {},
     "output_type": "execute_result"
    }
   ],
   "source": [
    "loandf_duration['Aggregate'] = loandf_duration['Charged Off'] + loandf_duration['Current'] + loandf_duration['Fully Paid']\n",
    "loandf_duration['Charged Off%'] = round(loandf_duration['Charged Off']/loandf_duration['Aggregate'] *100, 2)\n",
    "loandf_duration['Current%'] = round(loandf_duration['Current']/loandf_duration['Aggregate'] *100, 2)\n",
    "loandf_duration['Fully Paid %'] = round(loandf_duration['Fully Paid']/loandf_duration['Aggregate'] *100, 2)\n",
    "\n",
    "\n",
    "loandf_duration"
   ]
  },
  {
   "cell_type": "code",
   "execution_count": 37,
   "metadata": {},
   "outputs": [
    {
     "data": {
      "image/png": "[encoded data removed]",
      "text/plain": [
       "<Figure size 432x288 with 1 Axes>"
      ]
     },
     "metadata": {},
     "output_type": "display_data"
    }
   ],
   "source": [
    "plt.figure(figsize=(6, 4))\n",
    "plt.title('Loan Default w.r.t Loan duration')\n",
    "ax = sns.barplot(x='loanPeriod', y=\"Charged Off%\", data=loandf_duration.reset_index(), estimator=np.median)\n",
    " \n",
    "\n",
    "for p in ax.patches:\n",
    "    height = p.get_height()\n",
    "    ax.text(p.get_x() + p.get_width() / 2., height + 0.25, '{:1.2f}'.format(height), ha=\"center\")\n",
    " \n",
    "\n",
    "labels = loandf_duration.reset_index()['loanPeriod'].tolist()\n",
    "sizes = [p.get_height() for p in ax.patches]\n",
    " \n",
    "\n",
    "total = sum(sizes)\n",
    "sizes = [(size / total) * 100 for size in sizes]\n",
    " \n",
    "\n",
    "plt.clf()  \n",
    "plt.pie(sizes, labels=labels, autopct='%1.2f%%', startangle=90)\n",
    "plt.title('Loan Default w.r.t Loan duration (Pie Chart)')\n",
    " \n",
    "\n",
    "plt.show()"
   ]
  },
  {
   "cell_type": "code",
   "execution_count": 38,
   "metadata": {},
   "outputs": [],
   "source": [
    "def dti_level(x):\n",
    "    'divide the time of the day into four categories'\n",
    "    if x < 5:\n",
    "        return \"A(<5)\"\n",
    "    elif 5 <= x < 10:\n",
    "        return \"B(5-10)\"\n",
    "    elif 10 <= x < 15:\n",
    "        return \"C(10-15)\"\n",
    "    elif 15 <= x < 20:\n",
    "        return \"D(15-20)\"\n",
    "    else:\n",
    "        return \"E(>20)\"\n",
    "\n",
    "loandf['dti_level'] = loandf.dti.apply(lambda x: dti_level(x))"
   ]
  },
  {
   "cell_type": "code",
   "execution_count": 39,
   "metadata": {},
   "outputs": [
    {
     "data": {
      "text/plain": [
       "C(10-15)    9893\n",
       "D(15-20)    9108\n",
       "B(5-10)     8062\n",
       "E(>20)      7514\n",
       "A(<5)       5140\n",
       "Name: dti_level, dtype: int64"
      ]
     },
     "execution_count": 39,
     "metadata": {},
     "output_type": "execute_result"
    }
   ],
   "source": [
    "loandf['dti_level'].value_counts()"
   ]
  },
  {
   "cell_type": "code",
   "execution_count": 40,
   "metadata": {},
   "outputs": [
    {
     "data": {
      "text/html": [
       "<div>\n",
       "<style scoped>\n",
       "    .dataframe tbody tr th:only-of-type {\n",
       "        vertical-align: middle;\n",
       "    }\n",
       "\n",
       "    .dataframe tbody tr th {\n",
       "        vertical-align: top;\n",
       "    }\n",
       "\n",
       "    .dataframe thead th {\n",
       "        text-align: right;\n",
       "    }\n",
       "</style>\n",
       "<table border=\"1\" class=\"dataframe\">\n",
       "  <thead>\n",
       "    <tr style=\"text-align: right;\">\n",
       "      <th>loan_status</th>\n",
       "      <th>Charged Off</th>\n",
       "      <th>Current</th>\n",
       "      <th>Fully Paid</th>\n",
       "      <th>Aggregate</th>\n",
       "      <th>Charged Off%</th>\n",
       "      <th>Current%</th>\n",
       "      <th>Fully Paid %</th>\n",
       "    </tr>\n",
       "    <tr>\n",
       "      <th>dti_level</th>\n",
       "      <th></th>\n",
       "      <th></th>\n",
       "      <th></th>\n",
       "      <th></th>\n",
       "      <th></th>\n",
       "      <th></th>\n",
       "      <th></th>\n",
       "    </tr>\n",
       "  </thead>\n",
       "  <tbody>\n",
       "    <tr>\n",
       "      <th>A(&lt;5)</th>\n",
       "      <td>625</td>\n",
       "      <td>96</td>\n",
       "      <td>4419</td>\n",
       "      <td>5140</td>\n",
       "      <td>12.16</td>\n",
       "      <td>1.87</td>\n",
       "      <td>85.97</td>\n",
       "    </tr>\n",
       "    <tr>\n",
       "      <th>B(5-10)</th>\n",
       "      <td>1001</td>\n",
       "      <td>201</td>\n",
       "      <td>6860</td>\n",
       "      <td>8062</td>\n",
       "      <td>12.42</td>\n",
       "      <td>2.49</td>\n",
       "      <td>85.09</td>\n",
       "    </tr>\n",
       "    <tr>\n",
       "      <th>C(10-15)</th>\n",
       "      <td>1399</td>\n",
       "      <td>269</td>\n",
       "      <td>8225</td>\n",
       "      <td>9893</td>\n",
       "      <td>14.14</td>\n",
       "      <td>2.72</td>\n",
       "      <td>83.14</td>\n",
       "    </tr>\n",
       "    <tr>\n",
       "      <th>D(15-20)</th>\n",
       "      <td>1394</td>\n",
       "      <td>284</td>\n",
       "      <td>7430</td>\n",
       "      <td>9108</td>\n",
       "      <td>15.31</td>\n",
       "      <td>3.12</td>\n",
       "      <td>81.58</td>\n",
       "    </tr>\n",
       "    <tr>\n",
       "      <th>E(&gt;20)</th>\n",
       "      <td>1208</td>\n",
       "      <td>290</td>\n",
       "      <td>6016</td>\n",
       "      <td>7514</td>\n",
       "      <td>16.08</td>\n",
       "      <td>3.86</td>\n",
       "      <td>80.06</td>\n",
       "    </tr>\n",
       "  </tbody>\n",
       "</table>\n",
       "</div>"
      ],
      "text/plain": [
       "loan_status  Charged Off  Current  Fully Paid  Aggregate  Charged Off%  \\\n",
       "dti_level                                                                \n",
       "A(<5)                625       96        4419       5140         12.16   \n",
       "B(5-10)             1001      201        6860       8062         12.42   \n",
       "C(10-15)            1399      269        8225       9893         14.14   \n",
       "D(15-20)            1394      284        7430       9108         15.31   \n",
       "E(>20)              1208      290        6016       7514         16.08   \n",
       "\n",
       "loan_status  Current%  Fully Paid %  \n",
       "dti_level                            \n",
       "A(<5)            1.87         85.97  \n",
       "B(5-10)          2.49         85.09  \n",
       "C(10-15)         2.72         83.14  \n",
       "D(15-20)         3.12         81.58  \n",
       "E(>20)           3.86         80.06  "
      ]
     },
     "execution_count": 40,
     "metadata": {},
     "output_type": "execute_result"
    }
   ],
   "source": [
    "loandf_dti = pd.pivot_table(loandf, values='loan_amnt', index='dti_level', columns='loan_status', aggfunc='count')\n",
    "loandf_dti['Aggregate'] = loandf_dti['Charged Off'] + loandf_dti['Current'] + loandf_dti['Fully Paid']\n",
    "loandf_dti['Charged Off%'] = round(loandf_dti['Charged Off']/loandf_dti['Aggregate'] *100, 2)\n",
    "loandf_dti['Current%'] = round(loandf_dti['Current']/loandf_dti['Aggregate'] *100, 2)\n",
    "loandf_dti['Fully Paid %'] = round(loandf_dti['Fully Paid']/loandf_dti['Aggregate'] *100, 2)\n",
    "loandf_dti"
   ]
  },
  {
   "cell_type": "code",
   "execution_count": 41,
   "metadata": {},
   "outputs": [
    {
     "data": {
      "image/png": "[encoded data removed]",
      "text/plain": [
       "<Figure size 576x432 with 1 Axes>"
      ]
     },
     "metadata": {},
     "output_type": "display_data"
    }
   ],
   "source": [
    "plt.figure(figsize=(8, 6))\n",
    "plt.title('Loan Default w.r.t dti level')\n",
    "ax=sns.barplot(x='dti_level',y = \"Charged Off%\", data=loandf_dti.reset_index())\n",
    "#plt.show()\n",
    "for p in ax.patches:\n",
    "    height = p.get_height()\n",
    "    ax.text(p.get_x()+p.get_width()/2., height + 0.25,'{:1.2f}'.format(height),ha=\"center\") "
   ]
  },
  {
   "cell_type": "code",
   "execution_count": 42,
   "metadata": {},
   "outputs": [
    {
     "data": {
      "text/plain": [
       "16    1471\n",
       "15    1462\n",
       "17    1457\n",
       "14    1445\n",
       "20    1428\n",
       "      ... \n",
       "74       1\n",
       "81       1\n",
       "80       1\n",
       "77       1\n",
       "71       1\n",
       "Name: total_acc, Length: 82, dtype: int64"
      ]
     },
     "execution_count": 42,
     "metadata": {},
     "output_type": "execute_result"
    }
   ],
   "source": [
    "loandf['total_acc'].value_counts()"
   ]
  },
  {
   "cell_type": "code",
   "execution_count": 43,
   "metadata": {},
   "outputs": [],
   "source": [
    "loandf['total_acc'] = loandf['total_acc'].apply(lambda x: x if x< 10 else '10+')"
   ]
  },
  {
   "cell_type": "code",
   "execution_count": 44,
   "metadata": {},
   "outputs": [
    {
     "data": {
      "text/html": [
       "<div>\n",
       "<style scoped>\n",
       "    .dataframe tbody tr th:only-of-type {\n",
       "        vertical-align: middle;\n",
       "    }\n",
       "\n",
       "    .dataframe tbody tr th {\n",
       "        vertical-align: top;\n",
       "    }\n",
       "\n",
       "    .dataframe thead th {\n",
       "        text-align: right;\n",
       "    }\n",
       "</style>\n",
       "<table border=\"1\" class=\"dataframe\">\n",
       "  <thead>\n",
       "    <tr style=\"text-align: right;\">\n",
       "      <th>loan_status</th>\n",
       "      <th>Charged Off</th>\n",
       "      <th>Current</th>\n",
       "      <th>Fully Paid</th>\n",
       "    </tr>\n",
       "    <tr>\n",
       "      <th>total_acc</th>\n",
       "      <th></th>\n",
       "      <th></th>\n",
       "      <th></th>\n",
       "    </tr>\n",
       "  </thead>\n",
       "  <tbody>\n",
       "    <tr>\n",
       "      <th>2</th>\n",
       "      <td>1.0</td>\n",
       "      <td>NaN</td>\n",
       "      <td>3.0</td>\n",
       "    </tr>\n",
       "    <tr>\n",
       "      <th>3</th>\n",
       "      <td>42.0</td>\n",
       "      <td>3.0</td>\n",
       "      <td>137.0</td>\n",
       "    </tr>\n",
       "    <tr>\n",
       "      <th>4</th>\n",
       "      <td>79.0</td>\n",
       "      <td>5.0</td>\n",
       "      <td>336.0</td>\n",
       "    </tr>\n",
       "    <tr>\n",
       "      <th>5</th>\n",
       "      <td>91.0</td>\n",
       "      <td>9.0</td>\n",
       "      <td>452.0</td>\n",
       "    </tr>\n",
       "    <tr>\n",
       "      <th>6</th>\n",
       "      <td>107.0</td>\n",
       "      <td>9.0</td>\n",
       "      <td>567.0</td>\n",
       "    </tr>\n",
       "    <tr>\n",
       "      <th>7</th>\n",
       "      <td>132.0</td>\n",
       "      <td>15.0</td>\n",
       "      <td>681.0</td>\n",
       "    </tr>\n",
       "    <tr>\n",
       "      <th>8</th>\n",
       "      <td>172.0</td>\n",
       "      <td>17.0</td>\n",
       "      <td>817.0</td>\n",
       "    </tr>\n",
       "    <tr>\n",
       "      <th>9</th>\n",
       "      <td>166.0</td>\n",
       "      <td>24.0</td>\n",
       "      <td>890.0</td>\n",
       "    </tr>\n",
       "    <tr>\n",
       "      <th>10+</th>\n",
       "      <td>4837.0</td>\n",
       "      <td>1058.0</td>\n",
       "      <td>29067.0</td>\n",
       "    </tr>\n",
       "  </tbody>\n",
       "</table>\n",
       "</div>"
      ],
      "text/plain": [
       "loan_status  Charged Off  Current  Fully Paid\n",
       "total_acc                                    \n",
       "2                    1.0      NaN         3.0\n",
       "3                   42.0      3.0       137.0\n",
       "4                   79.0      5.0       336.0\n",
       "5                   91.0      9.0       452.0\n",
       "6                  107.0      9.0       567.0\n",
       "7                  132.0     15.0       681.0\n",
       "8                  172.0     17.0       817.0\n",
       "9                  166.0     24.0       890.0\n",
       "10+               4837.0   1058.0     29067.0"
      ]
     },
     "execution_count": 44,
     "metadata": {},
     "output_type": "execute_result"
    }
   ],
   "source": [
    "loandf_total_acc = pd.pivot_table(loandf, values='loan_amnt', index='total_acc', columns='loan_status', aggfunc='count')\n",
    "loandf_total_acc"
   ]
  },
  {
   "cell_type": "code",
   "execution_count": 45,
   "metadata": {},
   "outputs": [
    {
     "data": {
      "text/html": [
       "<div>\n",
       "<style scoped>\n",
       "    .dataframe tbody tr th:only-of-type {\n",
       "        vertical-align: middle;\n",
       "    }\n",
       "\n",
       "    .dataframe tbody tr th {\n",
       "        vertical-align: top;\n",
       "    }\n",
       "\n",
       "    .dataframe thead th {\n",
       "        text-align: right;\n",
       "    }\n",
       "</style>\n",
       "<table border=\"1\" class=\"dataframe\">\n",
       "  <thead>\n",
       "    <tr style=\"text-align: right;\">\n",
       "      <th>loan_status</th>\n",
       "      <th>Charged Off</th>\n",
       "      <th>Current</th>\n",
       "      <th>Fully Paid</th>\n",
       "      <th>Aggregate</th>\n",
       "      <th>Charged Off%</th>\n",
       "      <th>Current%</th>\n",
       "      <th>Fully Paid %</th>\n",
       "    </tr>\n",
       "    <tr>\n",
       "      <th>total_acc</th>\n",
       "      <th></th>\n",
       "      <th></th>\n",
       "      <th></th>\n",
       "      <th></th>\n",
       "      <th></th>\n",
       "      <th></th>\n",
       "      <th></th>\n",
       "    </tr>\n",
       "  </thead>\n",
       "  <tbody>\n",
       "    <tr>\n",
       "      <th>2</th>\n",
       "      <td>1.0</td>\n",
       "      <td>0.0</td>\n",
       "      <td>3.0</td>\n",
       "      <td>4.0</td>\n",
       "      <td>25.00</td>\n",
       "      <td>0.00</td>\n",
       "      <td>75.00</td>\n",
       "    </tr>\n",
       "    <tr>\n",
       "      <th>3</th>\n",
       "      <td>42.0</td>\n",
       "      <td>3.0</td>\n",
       "      <td>137.0</td>\n",
       "      <td>182.0</td>\n",
       "      <td>23.08</td>\n",
       "      <td>1.65</td>\n",
       "      <td>75.27</td>\n",
       "    </tr>\n",
       "    <tr>\n",
       "      <th>4</th>\n",
       "      <td>79.0</td>\n",
       "      <td>5.0</td>\n",
       "      <td>336.0</td>\n",
       "      <td>420.0</td>\n",
       "      <td>18.81</td>\n",
       "      <td>1.19</td>\n",
       "      <td>80.00</td>\n",
       "    </tr>\n",
       "    <tr>\n",
       "      <th>5</th>\n",
       "      <td>91.0</td>\n",
       "      <td>9.0</td>\n",
       "      <td>452.0</td>\n",
       "      <td>552.0</td>\n",
       "      <td>16.49</td>\n",
       "      <td>1.63</td>\n",
       "      <td>81.88</td>\n",
       "    </tr>\n",
       "    <tr>\n",
       "      <th>6</th>\n",
       "      <td>107.0</td>\n",
       "      <td>9.0</td>\n",
       "      <td>567.0</td>\n",
       "      <td>683.0</td>\n",
       "      <td>15.67</td>\n",
       "      <td>1.32</td>\n",
       "      <td>83.02</td>\n",
       "    </tr>\n",
       "    <tr>\n",
       "      <th>7</th>\n",
       "      <td>132.0</td>\n",
       "      <td>15.0</td>\n",
       "      <td>681.0</td>\n",
       "      <td>828.0</td>\n",
       "      <td>15.94</td>\n",
       "      <td>1.81</td>\n",
       "      <td>82.25</td>\n",
       "    </tr>\n",
       "    <tr>\n",
       "      <th>8</th>\n",
       "      <td>172.0</td>\n",
       "      <td>17.0</td>\n",
       "      <td>817.0</td>\n",
       "      <td>1006.0</td>\n",
       "      <td>17.10</td>\n",
       "      <td>1.69</td>\n",
       "      <td>81.21</td>\n",
       "    </tr>\n",
       "    <tr>\n",
       "      <th>9</th>\n",
       "      <td>166.0</td>\n",
       "      <td>24.0</td>\n",
       "      <td>890.0</td>\n",
       "      <td>1080.0</td>\n",
       "      <td>15.37</td>\n",
       "      <td>2.22</td>\n",
       "      <td>82.41</td>\n",
       "    </tr>\n",
       "    <tr>\n",
       "      <th>10+</th>\n",
       "      <td>4837.0</td>\n",
       "      <td>1058.0</td>\n",
       "      <td>29067.0</td>\n",
       "      <td>34962.0</td>\n",
       "      <td>13.84</td>\n",
       "      <td>3.03</td>\n",
       "      <td>83.14</td>\n",
       "    </tr>\n",
       "  </tbody>\n",
       "</table>\n",
       "</div>"
      ],
      "text/plain": [
       "loan_status  Charged Off  Current  Fully Paid  Aggregate  Charged Off%  \\\n",
       "total_acc                                                                \n",
       "2                    1.0      0.0         3.0        4.0         25.00   \n",
       "3                   42.0      3.0       137.0      182.0         23.08   \n",
       "4                   79.0      5.0       336.0      420.0         18.81   \n",
       "5                   91.0      9.0       452.0      552.0         16.49   \n",
       "6                  107.0      9.0       567.0      683.0         15.67   \n",
       "7                  132.0     15.0       681.0      828.0         15.94   \n",
       "8                  172.0     17.0       817.0     1006.0         17.10   \n",
       "9                  166.0     24.0       890.0     1080.0         15.37   \n",
       "10+               4837.0   1058.0     29067.0    34962.0         13.84   \n",
       "\n",
       "loan_status  Current%  Fully Paid %  \n",
       "total_acc                            \n",
       "2                0.00         75.00  \n",
       "3                1.65         75.27  \n",
       "4                1.19         80.00  \n",
       "5                1.63         81.88  \n",
       "6                1.32         83.02  \n",
       "7                1.81         82.25  \n",
       "8                1.69         81.21  \n",
       "9                2.22         82.41  \n",
       "10+              3.03         83.14  "
      ]
     },
     "execution_count": 45,
     "metadata": {},
     "output_type": "execute_result"
    }
   ],
   "source": [
    "loandf_total_acc.loc[pd.isnull(loandf_total_acc['Current']), ['Current']] = 0\n",
    "loandf_total_acc['Aggregate'] = loandf_total_acc['Charged Off'] + loandf_total_acc['Current'] + loandf_total_acc['Fully Paid']\n",
    "loandf_total_acc['Charged Off%'] = round(loandf_total_acc['Charged Off']/loandf_total_acc['Aggregate'] *100, 2)\n",
    "loandf_total_acc['Current%'] = round(loandf_total_acc['Current']/loandf_total_acc['Aggregate'] *100, 2)\n",
    "loandf_total_acc['Fully Paid %'] = round(loandf_total_acc['Fully Paid']/loandf_total_acc['Aggregate'] *100, 2)\n",
    "loandf_total_acc"
   ]
  },
  {
   "cell_type": "code",
   "execution_count": 46,
   "metadata": {},
   "outputs": [
    {
     "data": {
      "text/plain": [
       "RENT        18899\n",
       "MORTGAGE    17659\n",
       "OWN          3058\n",
       "OTHER          98\n",
       "NONE            3\n",
       "Name: home_ownership, dtype: int64"
      ]
     },
     "execution_count": 46,
     "metadata": {},
     "output_type": "execute_result"
    }
   ],
   "source": [
    "loandf['home_ownership'].value_counts()"
   ]
  },
  {
   "cell_type": "code",
   "execution_count": 47,
   "metadata": {},
   "outputs": [
    {
     "data": {
      "text/plain": [
       "RENT        18899\n",
       "MORTGAGE    17659\n",
       "OWN          3058\n",
       "OTHER         101\n",
       "Name: home_ownership, dtype: int64"
      ]
     },
     "execution_count": 47,
     "metadata": {},
     "output_type": "execute_result"
    }
   ],
   "source": [
    "loandf['home_ownership'] = loandf['home_ownership'].apply(lambda x: x if x != 'NONE' else 'OTHER')\n",
    "loandf['home_ownership'].value_counts()"
   ]
  },
  {
   "cell_type": "code",
   "execution_count": 48,
   "metadata": {},
   "outputs": [
    {
     "data": {
      "text/html": [
       "<div>\n",
       "<style scoped>\n",
       "    .dataframe tbody tr th:only-of-type {\n",
       "        vertical-align: middle;\n",
       "    }\n",
       "\n",
       "    .dataframe tbody tr th {\n",
       "        vertical-align: top;\n",
       "    }\n",
       "\n",
       "    .dataframe thead th {\n",
       "        text-align: right;\n",
       "    }\n",
       "</style>\n",
       "<table border=\"1\" class=\"dataframe\">\n",
       "  <thead>\n",
       "    <tr style=\"text-align: right;\">\n",
       "      <th>loan_status</th>\n",
       "      <th>Charged Off</th>\n",
       "      <th>Current</th>\n",
       "      <th>Fully Paid</th>\n",
       "      <th>Aggregate</th>\n",
       "      <th>Charged Off%</th>\n",
       "      <th>Current%</th>\n",
       "      <th>Fully Paid %</th>\n",
       "    </tr>\n",
       "    <tr>\n",
       "      <th>home_ownership</th>\n",
       "      <th></th>\n",
       "      <th></th>\n",
       "      <th></th>\n",
       "      <th></th>\n",
       "      <th></th>\n",
       "      <th></th>\n",
       "      <th></th>\n",
       "    </tr>\n",
       "  </thead>\n",
       "  <tbody>\n",
       "    <tr>\n",
       "      <th>MORTGAGE</th>\n",
       "      <td>2327.0</td>\n",
       "      <td>638.0</td>\n",
       "      <td>14694.0</td>\n",
       "      <td>17659.0</td>\n",
       "      <td>13.18</td>\n",
       "      <td>3.61</td>\n",
       "      <td>83.21</td>\n",
       "    </tr>\n",
       "    <tr>\n",
       "      <th>OTHER</th>\n",
       "      <td>18.0</td>\n",
       "      <td>0.0</td>\n",
       "      <td>83.0</td>\n",
       "      <td>101.0</td>\n",
       "      <td>17.82</td>\n",
       "      <td>0.00</td>\n",
       "      <td>82.18</td>\n",
       "    </tr>\n",
       "    <tr>\n",
       "      <th>OWN</th>\n",
       "      <td>443.0</td>\n",
       "      <td>83.0</td>\n",
       "      <td>2532.0</td>\n",
       "      <td>3058.0</td>\n",
       "      <td>14.49</td>\n",
       "      <td>2.71</td>\n",
       "      <td>82.80</td>\n",
       "    </tr>\n",
       "    <tr>\n",
       "      <th>RENT</th>\n",
       "      <td>2839.0</td>\n",
       "      <td>419.0</td>\n",
       "      <td>15641.0</td>\n",
       "      <td>18899.0</td>\n",
       "      <td>15.02</td>\n",
       "      <td>2.22</td>\n",
       "      <td>82.76</td>\n",
       "    </tr>\n",
       "  </tbody>\n",
       "</table>\n",
       "</div>"
      ],
      "text/plain": [
       "loan_status     Charged Off  Current  Fully Paid  Aggregate  Charged Off%  \\\n",
       "home_ownership                                                              \n",
       "MORTGAGE             2327.0    638.0     14694.0    17659.0         13.18   \n",
       "OTHER                  18.0      0.0        83.0      101.0         17.82   \n",
       "OWN                   443.0     83.0      2532.0     3058.0         14.49   \n",
       "RENT                 2839.0    419.0     15641.0    18899.0         15.02   \n",
       "\n",
       "loan_status     Current%  Fully Paid %  \n",
       "home_ownership                          \n",
       "MORTGAGE            3.61         83.21  \n",
       "OTHER               0.00         82.18  \n",
       "OWN                 2.71         82.80  \n",
       "RENT                2.22         82.76  "
      ]
     },
     "execution_count": 48,
     "metadata": {},
     "output_type": "execute_result"
    }
   ],
   "source": [
    "loandf_home_ownership = pd.pivot_table(loandf, values='loan_amnt', index='home_ownership', columns='loan_status', aggfunc='count')\n",
    "loandf_home_ownership.loc[pd.isnull(loandf_home_ownership['Current']), ['Current']] = 0\n",
    "loandf_home_ownership['Aggregate'] = loandf_home_ownership['Charged Off'] + loandf_home_ownership['Current'] + loandf_home_ownership['Fully Paid']\n",
    "loandf_home_ownership['Charged Off%'] = round(loandf_home_ownership['Charged Off']/loandf_home_ownership['Aggregate'] *100, 2)\n",
    "loandf_home_ownership['Current%'] = round(loandf_home_ownership['Current']/loandf_home_ownership['Aggregate'] *100, 2)\n",
    "loandf_home_ownership['Fully Paid %'] = round(loandf_home_ownership['Fully Paid']/loandf_home_ownership['Aggregate'] *100, 2)\n",
    "loandf_home_ownership"
   ]
  },
  {
   "cell_type": "code",
   "execution_count": 49,
   "metadata": {},
   "outputs": [
    {
     "name": "stdout",
     "output_type": "stream",
     "text": [
      "6000000.0\n",
      "4000.0\n"
     ]
    }
   ],
   "source": [
    "print(loandf.annual_inc.max())\n",
    "print(loandf.annual_inc.min())"
   ]
  },
  {
   "cell_type": "code",
   "execution_count": 50,
   "metadata": {},
   "outputs": [
    {
     "data": {
      "text/plain": [
       "D(50K-75K)    24998\n",
       "C(20K-50K)    13621\n",
       "B(10K-20K)      986\n",
       "A(<10K)          80\n",
       "F(>100K)         32\n",
       "Name: salary_range, dtype: int64"
      ]
     },
     "execution_count": 50,
     "metadata": {},
     "output_type": "execute_result"
    }
   ],
   "source": [
    "def sal_range(x):\n",
    "    'divide the time of the day into four categories'\n",
    "    if x < 10000:\n",
    "        return \"A(<10K)\"\n",
    "    elif 10000 <= x < 20000:\n",
    "        return \"B(10K-20K)\"\n",
    "    elif 20000 <= x < 50000:\n",
    "        return \"C(20K-50K)\"\n",
    "    elif 50000 <= x < 750000:\n",
    "        return \"D(50K-75K)\"\n",
    "    elif 75000 <= x < 100000:\n",
    "        return \"E(75K-100K)\"\n",
    "    else:\n",
    "        return \"F(>100K)\"\n",
    "\n",
    "loandf['salary_range'] = loandf.annual_inc.apply(lambda x: sal_range(x))  \n",
    "loandf['salary_range'].value_counts()\n"
   ]
  },
  {
   "cell_type": "code",
   "execution_count": 51,
   "metadata": {},
   "outputs": [
    {
     "data": {
      "text/html": [
       "<div>\n",
       "<style scoped>\n",
       "    .dataframe tbody tr th:only-of-type {\n",
       "        vertical-align: middle;\n",
       "    }\n",
       "\n",
       "    .dataframe tbody tr th {\n",
       "        vertical-align: top;\n",
       "    }\n",
       "\n",
       "    .dataframe thead th {\n",
       "        text-align: right;\n",
       "    }\n",
       "</style>\n",
       "<table border=\"1\" class=\"dataframe\">\n",
       "  <thead>\n",
       "    <tr style=\"text-align: right;\">\n",
       "      <th>loan_status</th>\n",
       "      <th>Charged Off</th>\n",
       "      <th>Current</th>\n",
       "      <th>Fully Paid</th>\n",
       "      <th>Aggregate</th>\n",
       "      <th>Charged Off%</th>\n",
       "      <th>Current%</th>\n",
       "      <th>Fully Paid %</th>\n",
       "    </tr>\n",
       "    <tr>\n",
       "      <th>salary_range</th>\n",
       "      <th></th>\n",
       "      <th></th>\n",
       "      <th></th>\n",
       "      <th></th>\n",
       "      <th></th>\n",
       "      <th></th>\n",
       "      <th></th>\n",
       "    </tr>\n",
       "  </thead>\n",
       "  <tbody>\n",
       "    <tr>\n",
       "      <th>A(&lt;10K)</th>\n",
       "      <td>14.0</td>\n",
       "      <td>1.0</td>\n",
       "      <td>65.0</td>\n",
       "      <td>80.0</td>\n",
       "      <td>17.50</td>\n",
       "      <td>1.25</td>\n",
       "      <td>81.25</td>\n",
       "    </tr>\n",
       "    <tr>\n",
       "      <th>B(10K-20K)</th>\n",
       "      <td>213.0</td>\n",
       "      <td>7.0</td>\n",
       "      <td>766.0</td>\n",
       "      <td>986.0</td>\n",
       "      <td>21.60</td>\n",
       "      <td>0.71</td>\n",
       "      <td>77.69</td>\n",
       "    </tr>\n",
       "    <tr>\n",
       "      <th>C(20K-50K)</th>\n",
       "      <td>2222.0</td>\n",
       "      <td>319.0</td>\n",
       "      <td>11080.0</td>\n",
       "      <td>13621.0</td>\n",
       "      <td>16.31</td>\n",
       "      <td>2.34</td>\n",
       "      <td>81.34</td>\n",
       "    </tr>\n",
       "    <tr>\n",
       "      <th>D(50K-75K)</th>\n",
       "      <td>3175.0</td>\n",
       "      <td>813.0</td>\n",
       "      <td>21010.0</td>\n",
       "      <td>24998.0</td>\n",
       "      <td>12.70</td>\n",
       "      <td>3.25</td>\n",
       "      <td>84.05</td>\n",
       "    </tr>\n",
       "    <tr>\n",
       "      <th>F(&gt;100K)</th>\n",
       "      <td>3.0</td>\n",
       "      <td>0.0</td>\n",
       "      <td>29.0</td>\n",
       "      <td>32.0</td>\n",
       "      <td>9.38</td>\n",
       "      <td>0.00</td>\n",
       "      <td>90.62</td>\n",
       "    </tr>\n",
       "  </tbody>\n",
       "</table>\n",
       "</div>"
      ],
      "text/plain": [
       "loan_status   Charged Off  Current  Fully Paid  Aggregate  Charged Off%  \\\n",
       "salary_range                                                              \n",
       "A(<10K)              14.0      1.0        65.0       80.0         17.50   \n",
       "B(10K-20K)          213.0      7.0       766.0      986.0         21.60   \n",
       "C(20K-50K)         2222.0    319.0     11080.0    13621.0         16.31   \n",
       "D(50K-75K)         3175.0    813.0     21010.0    24998.0         12.70   \n",
       "F(>100K)              3.0      0.0        29.0       32.0          9.38   \n",
       "\n",
       "loan_status   Current%  Fully Paid %  \n",
       "salary_range                          \n",
       "A(<10K)           1.25         81.25  \n",
       "B(10K-20K)        0.71         77.69  \n",
       "C(20K-50K)        2.34         81.34  \n",
       "D(50K-75K)        3.25         84.05  \n",
       "F(>100K)          0.00         90.62  "
      ]
     },
     "execution_count": 51,
     "metadata": {},
     "output_type": "execute_result"
    }
   ],
   "source": [
    "loandf_salary_range = pd.pivot_table(loandf, values='loan_amnt', index='salary_range', columns='loan_status', aggfunc='count')\n",
    "loandf_salary_range.loc[pd.isnull(loandf_salary_range['Current']), ['Current']] = 0\n",
    "loandf_salary_range['Aggregate'] = loandf_salary_range['Charged Off'] + loandf_salary_range['Current'] + loandf_salary_range['Fully Paid']\n",
    "loandf_salary_range['Charged Off%'] = round(loandf_salary_range['Charged Off']/loandf_salary_range['Aggregate'] *100, 2)\n",
    "loandf_salary_range['Current%'] = round(loandf_salary_range['Current']/loandf_salary_range['Aggregate'] *100, 2)\n",
    "loandf_salary_range['Fully Paid %'] = round(loandf_salary_range['Fully Paid']/loandf_salary_range['Aggregate'] *100, 2)\n",
    "loandf_salary_range"
   ]
  },
  {
   "cell_type": "code",
   "execution_count": 52,
   "metadata": {},
   "outputs": [
    {
     "data": {
      "image/png": "[encoded data removed]",
      "text/plain": [
       "<Figure size 576x432 with 1 Axes>"
      ]
     },
     "metadata": {},
     "output_type": "display_data"
    }
   ],
   "source": [
    "plt.figure(figsize=(8, 6))\n",
    "plt.title('Loan Default w.r.t salary_range')\n",
    "ax=sns.barplot(x= 'salary_range',y = \"Charged Off%\", data=loandf_salary_range.reset_index())\n",
    "#plt.show()\n",
    "for p in ax.patches:\n",
    "    height = p.get_height()\n",
    "    ax.text(p.get_x()+p.get_width()/2., height + 0.25,'{:1.2f}'.format(height),ha=\"center\") "
   ]
  },
  {
   "cell_type": "markdown",
   "metadata": {},
   "source": [
    "Intrest Rates"
   ]
  },
  {
   "cell_type": "code",
   "execution_count": 53,
   "metadata": {},
   "outputs": [
    {
     "name": "stdout",
     "output_type": "stream",
     "text": [
      "24.59\n",
      "5.42\n"
     ]
    }
   ],
   "source": [
    "loandf['int_rate%'] = loandf['int_rate'].str[:-1].astype(float)\n",
    "\n",
    "print(loandf['int_rate%'].max())\n",
    "print(loandf['int_rate%'].min())"
   ]
  },
  {
   "cell_type": "code",
   "execution_count": 54,
   "metadata": {},
   "outputs": [
    {
     "data": {
      "text/plain": [
       "B(10%-15%)    19045\n",
       "A(<10%)       12142\n",
       "C(15%-20%)     7658\n",
       "D(>20%)         872\n",
       "Name: int_rate_range, dtype: int64"
      ]
     },
     "execution_count": 54,
     "metadata": {},
     "output_type": "execute_result"
    }
   ],
   "source": [
    "def int_rate(x):\n",
    "    'Create int_rate range'\n",
    "    if x < 10:\n",
    "        return \"A(<10%)\"\n",
    "    elif 10 <= x < 15:\n",
    "        return \"B(10%-15%)\"\n",
    "    elif 15 <= x < 20:\n",
    "        return \"C(15%-20%)\"\n",
    "    else:\n",
    "        return \"D(>20%)\"\n",
    "\n",
    "loandf['int_rate_range'] = loandf['int_rate%'].apply(lambda x: int_rate(x))  \n",
    "loandf['int_rate_range'].value_counts()"
   ]
  },
  {
   "cell_type": "code",
   "execution_count": 55,
   "metadata": {},
   "outputs": [
    {
     "data": {
      "text/html": [
       "<div>\n",
       "<style scoped>\n",
       "    .dataframe tbody tr th:only-of-type {\n",
       "        vertical-align: middle;\n",
       "    }\n",
       "\n",
       "    .dataframe tbody tr th {\n",
       "        vertical-align: top;\n",
       "    }\n",
       "\n",
       "    .dataframe thead th {\n",
       "        text-align: right;\n",
       "    }\n",
       "</style>\n",
       "<table border=\"1\" class=\"dataframe\">\n",
       "  <thead>\n",
       "    <tr style=\"text-align: right;\">\n",
       "      <th>loan_status</th>\n",
       "      <th>Charged Off</th>\n",
       "      <th>Current</th>\n",
       "      <th>Fully Paid</th>\n",
       "      <th>Aggregate</th>\n",
       "      <th>Charged Off%</th>\n",
       "      <th>Current%</th>\n",
       "      <th>Fully Paid %</th>\n",
       "    </tr>\n",
       "    <tr>\n",
       "      <th>int_rate_range</th>\n",
       "      <th></th>\n",
       "      <th></th>\n",
       "      <th></th>\n",
       "      <th></th>\n",
       "      <th></th>\n",
       "      <th></th>\n",
       "      <th></th>\n",
       "    </tr>\n",
       "  </thead>\n",
       "  <tbody>\n",
       "    <tr>\n",
       "      <th>A(&lt;10%)</th>\n",
       "      <td>799</td>\n",
       "      <td>75</td>\n",
       "      <td>11268</td>\n",
       "      <td>12142</td>\n",
       "      <td>6.58</td>\n",
       "      <td>0.62</td>\n",
       "      <td>92.80</td>\n",
       "    </tr>\n",
       "    <tr>\n",
       "      <th>B(10%-15%)</th>\n",
       "      <td>2738</td>\n",
       "      <td>531</td>\n",
       "      <td>15776</td>\n",
       "      <td>19045</td>\n",
       "      <td>14.38</td>\n",
       "      <td>2.79</td>\n",
       "      <td>82.84</td>\n",
       "    </tr>\n",
       "    <tr>\n",
       "      <th>C(15%-20%)</th>\n",
       "      <td>1794</td>\n",
       "      <td>432</td>\n",
       "      <td>5432</td>\n",
       "      <td>7658</td>\n",
       "      <td>23.43</td>\n",
       "      <td>5.64</td>\n",
       "      <td>70.93</td>\n",
       "    </tr>\n",
       "    <tr>\n",
       "      <th>D(&gt;20%)</th>\n",
       "      <td>296</td>\n",
       "      <td>102</td>\n",
       "      <td>474</td>\n",
       "      <td>872</td>\n",
       "      <td>33.94</td>\n",
       "      <td>11.70</td>\n",
       "      <td>54.36</td>\n",
       "    </tr>\n",
       "  </tbody>\n",
       "</table>\n",
       "</div>"
      ],
      "text/plain": [
       "loan_status     Charged Off  Current  Fully Paid  Aggregate  Charged Off%  \\\n",
       "int_rate_range                                                              \n",
       "A(<10%)                 799       75       11268      12142          6.58   \n",
       "B(10%-15%)             2738      531       15776      19045         14.38   \n",
       "C(15%-20%)             1794      432        5432       7658         23.43   \n",
       "D(>20%)                 296      102         474        872         33.94   \n",
       "\n",
       "loan_status     Current%  Fully Paid %  \n",
       "int_rate_range                          \n",
       "A(<10%)             0.62         92.80  \n",
       "B(10%-15%)          2.79         82.84  \n",
       "C(15%-20%)          5.64         70.93  \n",
       "D(>20%)            11.70         54.36  "
      ]
     },
     "execution_count": 55,
     "metadata": {},
     "output_type": "execute_result"
    }
   ],
   "source": [
    "loandf_int_rate_range = pd.pivot_table(loandf, values='loan_amnt', index='int_rate_range', columns='loan_status', aggfunc='count')\n",
    "loandf_int_rate_range['Aggregate'] = loandf_int_rate_range['Charged Off'] + loandf_int_rate_range['Current'] + loandf_int_rate_range['Fully Paid']\n",
    "loandf_int_rate_range['Charged Off%'] = round(loandf_int_rate_range['Charged Off']/loandf_int_rate_range['Aggregate'] *100, 2)\n",
    "loandf_int_rate_range['Current%'] = round(loandf_int_rate_range['Current']/loandf_int_rate_range['Aggregate'] *100, 2)\n",
    "loandf_int_rate_range['Fully Paid %'] = round(loandf_int_rate_range['Fully Paid']/loandf_int_rate_range['Aggregate'] *100, 2)\n",
    "loandf_int_rate_range\n"
   ]
  },
  {
   "cell_type": "code",
   "execution_count": 56,
   "metadata": {},
   "outputs": [],
   "source": [
    "#Add pie chart"
   ]
  },
  {
   "cell_type": "markdown",
   "metadata": {},
   "source": [
    "Loan Amt"
   ]
  },
  {
   "cell_type": "code",
   "execution_count": 57,
   "metadata": {},
   "outputs": [
    {
     "name": "stdout",
     "output_type": "stream",
     "text": [
      "35000\n",
      "500\n"
     ]
    }
   ],
   "source": [
    "print(loandf['loan_amnt'].max())\n",
    "print(loandf['loan_amnt'].min())"
   ]
  },
  {
   "cell_type": "code",
   "execution_count": 58,
   "metadata": {},
   "outputs": [
    {
     "data": {
      "text/plain": [
       "C(5K-10K)     12178\n",
       "D(10K-15K)     8924\n",
       "B(1K-5K)       7505\n",
       "F(20K-30K)     5033\n",
       "E(15K-20K)     4860\n",
       "G(>30K)        1205\n",
       "A(<1K)           12\n",
       "Name: loan_amt_range, dtype: int64"
      ]
     },
     "execution_count": 58,
     "metadata": {},
     "output_type": "execute_result"
    }
   ],
   "source": [
    "def loan_amt_range(x):\n",
    "    'Craete int_rate range'\n",
    "    if x < 1000:\n",
    "        return \"A(<1K)\"\n",
    "    elif 1000 <= x < 5000:\n",
    "        return \"B(1K-5K)\"\n",
    "    elif 5000 <= x < 10000:\n",
    "        return \"C(5K-10K)\"\n",
    "    elif 10000 <= x < 15000:\n",
    "        return \"D(10K-15K)\"\n",
    "    elif 15000 <= x < 20000:\n",
    "        return \"E(15K-20K)\"\n",
    "    elif 20000 <= x < 30000:\n",
    "        return \"F(20K-30K)\"\n",
    "    else:\n",
    "        return \"G(>30K)\"\n",
    "\n",
    "loandf['loan_amt_range'] = loandf['loan_amnt'].apply(lambda x: loan_amt_range(x))  \n",
    "loandf['loan_amt_range'].value_counts()"
   ]
  },
  {
   "cell_type": "code",
   "execution_count": 59,
   "metadata": {},
   "outputs": [
    {
     "data": {
      "text/html": [
       "<div>\n",
       "<style scoped>\n",
       "    .dataframe tbody tr th:only-of-type {\n",
       "        vertical-align: middle;\n",
       "    }\n",
       "\n",
       "    .dataframe tbody tr th {\n",
       "        vertical-align: top;\n",
       "    }\n",
       "\n",
       "    .dataframe thead th {\n",
       "        text-align: right;\n",
       "    }\n",
       "</style>\n",
       "<table border=\"1\" class=\"dataframe\">\n",
       "  <thead>\n",
       "    <tr style=\"text-align: right;\">\n",
       "      <th>loan_status</th>\n",
       "      <th>Charged Off</th>\n",
       "      <th>Current</th>\n",
       "      <th>Fully Paid</th>\n",
       "      <th>Aggregate</th>\n",
       "      <th>Charged Off%</th>\n",
       "      <th>Current%</th>\n",
       "      <th>Fully Paid %</th>\n",
       "    </tr>\n",
       "    <tr>\n",
       "      <th>loan_amt_range</th>\n",
       "      <th></th>\n",
       "      <th></th>\n",
       "      <th></th>\n",
       "      <th></th>\n",
       "      <th></th>\n",
       "      <th></th>\n",
       "      <th></th>\n",
       "    </tr>\n",
       "  </thead>\n",
       "  <tbody>\n",
       "    <tr>\n",
       "      <th>A(&lt;1K)</th>\n",
       "      <td>1.0</td>\n",
       "      <td>0.0</td>\n",
       "      <td>11.0</td>\n",
       "      <td>12.0</td>\n",
       "      <td>8.33</td>\n",
       "      <td>0.00</td>\n",
       "      <td>91.67</td>\n",
       "    </tr>\n",
       "    <tr>\n",
       "      <th>B(1K-5K)</th>\n",
       "      <td>1026.0</td>\n",
       "      <td>73.0</td>\n",
       "      <td>6406.0</td>\n",
       "      <td>7505.0</td>\n",
       "      <td>13.67</td>\n",
       "      <td>0.97</td>\n",
       "      <td>85.36</td>\n",
       "    </tr>\n",
       "    <tr>\n",
       "      <th>C(5K-10K)</th>\n",
       "      <td>1567.0</td>\n",
       "      <td>157.0</td>\n",
       "      <td>10454.0</td>\n",
       "      <td>12178.0</td>\n",
       "      <td>12.87</td>\n",
       "      <td>1.29</td>\n",
       "      <td>85.84</td>\n",
       "    </tr>\n",
       "    <tr>\n",
       "      <th>D(10K-15K)</th>\n",
       "      <td>1158.0</td>\n",
       "      <td>270.0</td>\n",
       "      <td>7496.0</td>\n",
       "      <td>8924.0</td>\n",
       "      <td>12.98</td>\n",
       "      <td>3.03</td>\n",
       "      <td>84.00</td>\n",
       "    </tr>\n",
       "    <tr>\n",
       "      <th>E(15K-20K)</th>\n",
       "      <td>785.0</td>\n",
       "      <td>209.0</td>\n",
       "      <td>3866.0</td>\n",
       "      <td>4860.0</td>\n",
       "      <td>16.15</td>\n",
       "      <td>4.30</td>\n",
       "      <td>79.55</td>\n",
       "    </tr>\n",
       "    <tr>\n",
       "      <th>F(20K-30K)</th>\n",
       "      <td>841.0</td>\n",
       "      <td>298.0</td>\n",
       "      <td>3894.0</td>\n",
       "      <td>5033.0</td>\n",
       "      <td>16.71</td>\n",
       "      <td>5.92</td>\n",
       "      <td>77.37</td>\n",
       "    </tr>\n",
       "    <tr>\n",
       "      <th>G(&gt;30K)</th>\n",
       "      <td>249.0</td>\n",
       "      <td>133.0</td>\n",
       "      <td>823.0</td>\n",
       "      <td>1205.0</td>\n",
       "      <td>20.66</td>\n",
       "      <td>11.04</td>\n",
       "      <td>68.30</td>\n",
       "    </tr>\n",
       "  </tbody>\n",
       "</table>\n",
       "</div>"
      ],
      "text/plain": [
       "loan_status     Charged Off  Current  Fully Paid  Aggregate  Charged Off%  \\\n",
       "loan_amt_range                                                              \n",
       "A(<1K)                  1.0      0.0        11.0       12.0          8.33   \n",
       "B(1K-5K)             1026.0     73.0      6406.0     7505.0         13.67   \n",
       "C(5K-10K)            1567.0    157.0     10454.0    12178.0         12.87   \n",
       "D(10K-15K)           1158.0    270.0      7496.0     8924.0         12.98   \n",
       "E(15K-20K)            785.0    209.0      3866.0     4860.0         16.15   \n",
       "F(20K-30K)            841.0    298.0      3894.0     5033.0         16.71   \n",
       "G(>30K)               249.0    133.0       823.0     1205.0         20.66   \n",
       "\n",
       "loan_status     Current%  Fully Paid %  \n",
       "loan_amt_range                          \n",
       "A(<1K)              0.00         91.67  \n",
       "B(1K-5K)            0.97         85.36  \n",
       "C(5K-10K)           1.29         85.84  \n",
       "D(10K-15K)          3.03         84.00  \n",
       "E(15K-20K)          4.30         79.55  \n",
       "F(20K-30K)          5.92         77.37  \n",
       "G(>30K)            11.04         68.30  "
      ]
     },
     "execution_count": 59,
     "metadata": {},
     "output_type": "execute_result"
    }
   ],
   "source": [
    "loandf_loan_amt_range = pd.pivot_table(loandf, values='loan_amnt', index='loan_amt_range', columns='loan_status', aggfunc='count')\n",
    "loandf_loan_amt_range.loc[pd.isnull(loandf_loan_amt_range['Current']), ['Current']] = 0\n",
    "loandf_loan_amt_range['Aggregate'] = loandf_loan_amt_range['Charged Off'] + loandf_loan_amt_range['Current'] + loandf_loan_amt_range['Fully Paid']\n",
    "loandf_loan_amt_range['Charged Off%'] = round(loandf_loan_amt_range['Charged Off']/loandf_loan_amt_range['Aggregate'] *100, 2)\n",
    "loandf_loan_amt_range['Current%'] = round(loandf_loan_amt_range['Current']/loandf_loan_amt_range['Aggregate'] *100, 2)\n",
    "loandf_loan_amt_range['Fully Paid %'] = round(loandf_loan_amt_range['Fully Paid']/loandf_loan_amt_range['Aggregate'] *100, 2)\n",
    "loandf_loan_amt_range"
   ]
  },
  {
   "cell_type": "code",
   "execution_count": 60,
   "metadata": {},
   "outputs": [],
   "source": [
    "# Put a Stacked Bar Chart"
   ]
  },
  {
   "cell_type": "markdown",
   "metadata": {},
   "source": [
    "Installments"
   ]
  },
  {
   "cell_type": "code",
   "execution_count": 61,
   "metadata": {},
   "outputs": [
    {
     "name": "stdout",
     "output_type": "stream",
     "text": [
      "1305.19\n",
      "15.69\n"
     ]
    }
   ],
   "source": [
    "print(loandf['installment'].max())\n",
    "print(loandf['installment'].min())"
   ]
  },
  {
   "cell_type": "code",
   "execution_count": 62,
   "metadata": {},
   "outputs": [
    {
     "data": {
      "text/plain": [
       "D(200-500)     19296\n",
       "C(100-200)      9249\n",
       "E(500-750)      5065\n",
       "B(50-100)       3190\n",
       "F(750-1000)     1840\n",
       "A(<50)           842\n",
       "G(>1000)         235\n",
       "Name: loan_installment_range, dtype: int64"
      ]
     },
     "execution_count": 62,
     "metadata": {},
     "output_type": "execute_result"
    }
   ],
   "source": [
    "def loan_installment_range(x):\n",
    "    'Craete int_rate range'\n",
    "    if x < 50:\n",
    "        return \"A(<50)\"\n",
    "    elif 50 <= x < 100:\n",
    "        return \"B(50-100)\"\n",
    "    elif 100 <= x < 200:\n",
    "        return \"C(100-200)\"\n",
    "    elif 200 <= x < 500:\n",
    "        return \"D(200-500)\"\n",
    "    elif 500 <= x < 750:\n",
    "        return \"E(500-750)\"\n",
    "    elif 750 <= x < 1000:\n",
    "        return \"F(750-1000)\"\n",
    "    else:\n",
    "        return \"G(>1000)\"\n",
    "\n",
    "loandf['loan_installment_range'] = loandf['installment'].apply(lambda x: loan_installment_range(x))  \n",
    "loandf['loan_installment_range'].value_counts()"
   ]
  },
  {
   "cell_type": "code",
   "execution_count": 63,
   "metadata": {},
   "outputs": [
    {
     "data": {
      "text/html": [
       "<div>\n",
       "<style scoped>\n",
       "    .dataframe tbody tr th:only-of-type {\n",
       "        vertical-align: middle;\n",
       "    }\n",
       "\n",
       "    .dataframe tbody tr th {\n",
       "        vertical-align: top;\n",
       "    }\n",
       "\n",
       "    .dataframe thead th {\n",
       "        text-align: right;\n",
       "    }\n",
       "</style>\n",
       "<table border=\"1\" class=\"dataframe\">\n",
       "  <thead>\n",
       "    <tr style=\"text-align: right;\">\n",
       "      <th>loan_status</th>\n",
       "      <th>Charged Off</th>\n",
       "      <th>Current</th>\n",
       "      <th>Fully Paid</th>\n",
       "      <th>Aggregate</th>\n",
       "      <th>Charged Off%</th>\n",
       "      <th>Current%</th>\n",
       "      <th>Fully Paid %</th>\n",
       "    </tr>\n",
       "    <tr>\n",
       "      <th>loan_installment_range</th>\n",
       "      <th></th>\n",
       "      <th></th>\n",
       "      <th></th>\n",
       "      <th></th>\n",
       "      <th></th>\n",
       "      <th></th>\n",
       "      <th></th>\n",
       "    </tr>\n",
       "  </thead>\n",
       "  <tbody>\n",
       "    <tr>\n",
       "      <th>A(&lt;50)</th>\n",
       "      <td>135.0</td>\n",
       "      <td>10.0</td>\n",
       "      <td>697.0</td>\n",
       "      <td>842.0</td>\n",
       "      <td>16.03</td>\n",
       "      <td>1.19</td>\n",
       "      <td>82.78</td>\n",
       "    </tr>\n",
       "    <tr>\n",
       "      <th>B(50-100)</th>\n",
       "      <td>464.0</td>\n",
       "      <td>47.0</td>\n",
       "      <td>2679.0</td>\n",
       "      <td>3190.0</td>\n",
       "      <td>14.55</td>\n",
       "      <td>1.47</td>\n",
       "      <td>83.98</td>\n",
       "    </tr>\n",
       "    <tr>\n",
       "      <th>C(100-200)</th>\n",
       "      <td>1214.0</td>\n",
       "      <td>150.0</td>\n",
       "      <td>7885.0</td>\n",
       "      <td>9249.0</td>\n",
       "      <td>13.13</td>\n",
       "      <td>1.62</td>\n",
       "      <td>85.25</td>\n",
       "    </tr>\n",
       "    <tr>\n",
       "      <th>D(200-500)</th>\n",
       "      <td>2673.0</td>\n",
       "      <td>608.0</td>\n",
       "      <td>16015.0</td>\n",
       "      <td>19296.0</td>\n",
       "      <td>13.85</td>\n",
       "      <td>3.15</td>\n",
       "      <td>83.00</td>\n",
       "    </tr>\n",
       "    <tr>\n",
       "      <th>E(500-750)</th>\n",
       "      <td>792.0</td>\n",
       "      <td>244.0</td>\n",
       "      <td>4029.0</td>\n",
       "      <td>5065.0</td>\n",
       "      <td>15.64</td>\n",
       "      <td>4.82</td>\n",
       "      <td>79.55</td>\n",
       "    </tr>\n",
       "    <tr>\n",
       "      <th>F(750-1000)</th>\n",
       "      <td>324.0</td>\n",
       "      <td>81.0</td>\n",
       "      <td>1435.0</td>\n",
       "      <td>1840.0</td>\n",
       "      <td>17.61</td>\n",
       "      <td>4.40</td>\n",
       "      <td>77.99</td>\n",
       "    </tr>\n",
       "    <tr>\n",
       "      <th>G(&gt;1000)</th>\n",
       "      <td>25.0</td>\n",
       "      <td>0.0</td>\n",
       "      <td>210.0</td>\n",
       "      <td>235.0</td>\n",
       "      <td>10.64</td>\n",
       "      <td>0.00</td>\n",
       "      <td>89.36</td>\n",
       "    </tr>\n",
       "  </tbody>\n",
       "</table>\n",
       "</div>"
      ],
      "text/plain": [
       "loan_status             Charged Off  Current  Fully Paid  Aggregate  \\\n",
       "loan_installment_range                                                \n",
       "A(<50)                        135.0     10.0       697.0      842.0   \n",
       "B(50-100)                     464.0     47.0      2679.0     3190.0   \n",
       "C(100-200)                   1214.0    150.0      7885.0     9249.0   \n",
       "D(200-500)                   2673.0    608.0     16015.0    19296.0   \n",
       "E(500-750)                    792.0    244.0      4029.0     5065.0   \n",
       "F(750-1000)                   324.0     81.0      1435.0     1840.0   \n",
       "G(>1000)                       25.0      0.0       210.0      235.0   \n",
       "\n",
       "loan_status             Charged Off%  Current%  Fully Paid %  \n",
       "loan_installment_range                                        \n",
       "A(<50)                         16.03      1.19         82.78  \n",
       "B(50-100)                      14.55      1.47         83.98  \n",
       "C(100-200)                     13.13      1.62         85.25  \n",
       "D(200-500)                     13.85      3.15         83.00  \n",
       "E(500-750)                     15.64      4.82         79.55  \n",
       "F(750-1000)                    17.61      4.40         77.99  \n",
       "G(>1000)                       10.64      0.00         89.36  "
      ]
     },
     "execution_count": 63,
     "metadata": {},
     "output_type": "execute_result"
    }
   ],
   "source": [
    "loandf_installment_range = pd.pivot_table(loandf, values='loan_amnt', index='loan_installment_range', columns='loan_status', aggfunc='count')\n",
    "loandf_installment_range.loc[pd.isnull(loandf_installment_range['Current']), ['Current']] = 0\n",
    "loandf_installment_range['Aggregate'] = loandf_installment_range['Charged Off'] + loandf_installment_range['Current'] + loandf_installment_range['Fully Paid']\n",
    "loandf_installment_range['Charged Off%'] = round(loandf_installment_range['Charged Off']/loandf_installment_range['Aggregate'] *100, 2)\n",
    "loandf_installment_range['Current%'] = round(loandf_installment_range['Current']/loandf_installment_range['Aggregate'] *100, 2)\n",
    "loandf_installment_range['Fully Paid %'] = round(loandf_installment_range['Fully Paid']/loandf_installment_range['Aggregate'] *100, 2)\n",
    "loandf_installment_range"
   ]
  },
  {
   "cell_type": "markdown",
   "metadata": {},
   "source": [
    "Grade and Sub Grade"
   ]
  },
  {
   "cell_type": "code",
   "execution_count": 64,
   "metadata": {},
   "outputs": [
    {
     "name": "stdout",
     "output_type": "stream",
     "text": [
      "loan_status  Charged Off   Current  Fully Paid\n",
      "grade                                         \n",
      "A               0.059693  0.003966    0.936341\n",
      "B               0.118552  0.028702    0.852745\n",
      "C               0.166337  0.032601    0.801062\n",
      "D               0.210665  0.041832    0.747503\n",
      "E               0.251583  0.062984    0.685433\n",
      "F               0.304099  0.069590    0.626311\n",
      "G               0.319620  0.053797    0.626582\n"
     ]
    }
   ],
   "source": [
    "Grade_loanstatus = pd.crosstab(index=loandf[\"grade\"],columns=loandf[\"loan_status\"]).apply(lambda x: x/x.sum(), axis=1)\n",
    "print(Grade_loanstatus)"
   ]
  },
  {
   "cell_type": "code",
   "execution_count": 65,
   "metadata": {},
   "outputs": [
    {
     "data": {
      "text/plain": [
       "<matplotlib.legend.Legend at 0x16c389e4250>"
      ]
     },
     "execution_count": 65,
     "metadata": {},
     "output_type": "execute_result"
    },
    {
     "data": {
      "image/png": "[encoded data removed]",
      "text/plain": [
       "<Figure size 432x288 with 1 Axes>"
      ]
     },
     "metadata": {},
     "output_type": "display_data"
    }
   ],
   "source": [
    "Grade_loanstatus.plot.bar(stacked=False)\n",
    "plt.legend(title='Loan Status')"
   ]
  },
  {
   "cell_type": "code",
   "execution_count": 66,
   "metadata": {},
   "outputs": [
    {
     "name": "stdout",
     "output_type": "stream",
     "text": [
      "loan_status  Charged Off   Current  Fully Paid\n",
      "sub_grade                                     \n",
      "A1              0.026339  0.000000    0.973661\n",
      "A2              0.049072  0.000000    0.950928\n",
      "A3              0.056906  0.000000    0.943094\n",
      "A4              0.061677  0.004505    0.933818\n",
      "A5              0.079139  0.009847    0.911014\n",
      "B1              0.093443  0.018033    0.888525\n",
      "B2              0.110841  0.027224    0.861935\n",
      "B3              0.116901  0.031539    0.851560\n",
      "B4              0.130971  0.029857    0.839172\n",
      "B5              0.131657  0.032914    0.835429\n",
      "C1              0.157303  0.037921    0.804775\n",
      "C2              0.159622  0.039781    0.800597\n",
      "C3              0.176586  0.026815    0.796599\n",
      "C4              0.171521  0.024272    0.804207\n",
      "C5              0.175379  0.026981    0.797639\n",
      "D1              0.179377  0.000000    0.820623\n",
      "D2              0.201039  0.045994    0.752967\n",
      "D3              0.218244  0.048593    0.733163\n",
      "D4              0.219164  0.064220    0.716616\n",
      "D5              0.239130  0.045767    0.715103\n",
      "E1              0.259502  0.053735    0.686763\n",
      "E2              0.248476  0.064024    0.687500\n",
      "E3              0.215190  0.066908    0.717902\n",
      "E4              0.277533  0.066079    0.656388\n",
      "E5              0.262019  0.069712    0.668269\n",
      "F1              0.276596  0.072948    0.650456\n",
      "F2              0.281124  0.064257    0.654618\n",
      "F3              0.275676  0.059459    0.664865\n",
      "F4              0.315476  0.101190    0.583333\n",
      "F5              0.457627  0.042373    0.500000\n",
      "G1              0.298077  0.096154    0.605769\n",
      "G2              0.358974  0.012821    0.628205\n",
      "G3              0.395833  0.062500    0.541667\n",
      "G4              0.232143  0.035714    0.732143\n",
      "G5              0.333333  0.033333    0.633333\n"
     ]
    }
   ],
   "source": [
    "Subgrade_loanstatus = pd.crosstab(index=loandf[\"sub_grade\"],columns=loandf[\"loan_status\"]).apply(lambda x: x/x.sum(), axis=1)\n",
    "print(Subgrade_loanstatus)"
   ]
  },
  {
   "cell_type": "code",
   "execution_count": 67,
   "metadata": {},
   "outputs": [
    {
     "data": {
      "text/plain": [
       "<Figure size 720x576 with 0 Axes>"
      ]
     },
     "metadata": {},
     "output_type": "display_data"
    },
    {
     "data": {
      "image/png": "[encoded data removed]",
      "text/plain": [
       "<Figure size 1332x756 with 1 Axes>"
      ]
     },
     "metadata": {},
     "output_type": "display_data"
    }
   ],
   "source": [
    "plt.figure(figsize=(10, 8))\n",
    "ax = Subgrade_loanstatus.plot(alpha=0.8, kind='bar', stacked=False, figsize=(18.5, 10.5))\n",
    "plt.title('Loan Default w.r.t Subgrades F & G')\n",
    "plt.legend(title='Loan Status')\n",
    "ax.set_ylabel('count')\n",
    "plt.show()"
   ]
  },
  {
   "cell_type": "markdown",
   "metadata": {},
   "source": [
    "Outlier Analysis"
   ]
  },
  {
   "cell_type": "code",
   "execution_count": 68,
   "metadata": {},
   "outputs": [
    {
     "data": {
      "text/plain": [
       "<AxesSubplot:xlabel='int_rate_outlier'>"
      ]
     },
     "execution_count": 68,
     "metadata": {},
     "output_type": "execute_result"
    },
    {
     "data": {
      "image/png": "[encoded data removed]",
      "text/plain": [
       "<Figure size 576x432 with 1 Axes>"
      ]
     },
     "metadata": {},
     "output_type": "display_data"
    }
   ],
   "source": [
    "\n",
    "sns.set_style(\"whitegrid\")\n",
    "loandf[\"int_rate_outlier\"] = loandf[\"int_rate\"].str.replace('%','')\n",
    "loandf[\"int_rate_outlier\"] = loandf[\"int_rate_outlier\"].astype(float)\n",
    "plt.figure(figsize=(8, 6))\n",
    "sns.boxplot(x=loandf[\"int_rate_outlier\"])"
   ]
  },
  {
   "cell_type": "code",
   "execution_count": 69,
   "metadata": {},
   "outputs": [],
   "source": [
    "def outliers(col_name):\n",
    "    plt.figure(figsize=(8, 6))\n",
    "    ax=sns.boxplot(x=loandf[col_name])"
   ]
  },
  {
   "cell_type": "code",
   "execution_count": 70,
   "metadata": {},
   "outputs": [
    {
     "data": {
      "image/png": "[encoded data removed]",
      "text/plain": [
       "<Figure size 576x432 with 1 Axes>"
      ]
     },
     "metadata": {},
     "output_type": "display_data"
    },
    {
     "data": {
      "image/png": "[encoded data removed]",
      "text/plain": [
       "<Figure size 576x432 with 1 Axes>"
      ]
     },
     "metadata": {},
     "output_type": "display_data"
    },
    {
     "data": {
      "image/png": "[encoded data removed]",
      "text/plain": [
       "<Figure size 576x432 with 1 Axes>"
      ]
     },
     "metadata": {},
     "output_type": "display_data"
    }
   ],
   "source": [
    "\n",
    "outliers(\"dti\")\n",
    "\n",
    "outliers('annual_inc')\n",
    "\n",
    "outliers(\"loan_amnt\")"
   ]
  },
  {
   "cell_type": "markdown",
   "metadata": {},
   "source": [
    "Handeling the Outliers"
   ]
  },
  {
   "cell_type": "code",
   "execution_count": 71,
   "metadata": {},
   "outputs": [
    {
     "name": "stdout",
     "output_type": "stream",
     "text": [
      "<class 'pandas.core.frame.DataFrame'>\n",
      "RangeIndex: 39717 entries, 0 to 39716\n",
      "Data columns (total 47 columns):\n",
      " #   Column                   Non-Null Count  Dtype  \n",
      "---  ------                   --------------  -----  \n",
      " 0   id                       39717 non-null  int64  \n",
      " 1   member_id                39717 non-null  int64  \n",
      " 2   loan_amnt                39717 non-null  int64  \n",
      " 3   funded_amnt              39717 non-null  int64  \n",
      " 4   funded_amnt_inv          39717 non-null  float64\n",
      " 5   int_rate                 39717 non-null  object \n",
      " 6   installment              39717 non-null  float64\n",
      " 7   grade                    39717 non-null  object \n",
      " 8   sub_grade                39717 non-null  object \n",
      " 9   emp_length               38642 non-null  object \n",
      " 10  home_ownership           39717 non-null  object \n",
      " 11  annual_inc               39717 non-null  float64\n",
      " 12  verification_status      39717 non-null  object \n",
      " 13  issue_d                  39717 non-null  object \n",
      " 14  loan_status              39717 non-null  object \n",
      " 15  purpose                  39717 non-null  object \n",
      " 16  addr_state               39717 non-null  object \n",
      " 17  dti                      39717 non-null  float64\n",
      " 18  delinq_2yrs              39717 non-null  int64  \n",
      " 19  inq_last_6mths           39717 non-null  int64  \n",
      " 20  open_acc                 39717 non-null  int64  \n",
      " 21  pub_rec                  39717 non-null  int64  \n",
      " 22  revol_bal                39717 non-null  int64  \n",
      " 23  revol_util               39667 non-null  object \n",
      " 24  total_acc                39717 non-null  object \n",
      " 25  out_prncp                39717 non-null  float64\n",
      " 26  out_prncp_inv            39717 non-null  float64\n",
      " 27  total_pymnt              39717 non-null  float64\n",
      " 28  total_pymnt_inv          39717 non-null  float64\n",
      " 29  total_rec_prncp          39717 non-null  float64\n",
      " 30  total_rec_int            39717 non-null  float64\n",
      " 31  total_rec_late_fee       39717 non-null  float64\n",
      " 32  recoveries               39717 non-null  float64\n",
      " 33  collection_recovery_fee  39717 non-null  float64\n",
      " 34  last_pymnt_d             39646 non-null  object \n",
      " 35  last_pymnt_amnt          39717 non-null  float64\n",
      " 36  last_credit_pull_d       39715 non-null  object \n",
      " 37  pub_rec_bankruptcies     39020 non-null  float64\n",
      " 38  loanPeriod               39717 non-null  int32  \n",
      " 39  zip_code_num             39717 non-null  int32  \n",
      " 40  dti_level                39717 non-null  object \n",
      " 41  salary_range             39717 non-null  object \n",
      " 42  int_rate%                39717 non-null  float64\n",
      " 43  int_rate_range           39717 non-null  object \n",
      " 44  loan_amt_range           39717 non-null  object \n",
      " 45  loan_installment_range   39717 non-null  object \n",
      " 46  int_rate_outlier         39717 non-null  float64\n",
      "dtypes: float64(17), int32(2), int64(9), object(19)\n",
      "memory usage: 13.9+ MB\n"
     ]
    }
   ],
   "source": [
    "loandf_New = loandf\n",
    "loandf_New.info()"
   ]
  },
  {
   "cell_type": "code",
   "execution_count": 72,
   "metadata": {},
   "outputs": [],
   "source": [
    "#filt_df = df.loc[:, df.columns!=[('User_id','Col1')] ]\n",
    "\n",
    "out_filt_df = loandf_New.drop([ \n",
    "                    'id',\n",
    "                    'member_id',\n",
    "                    'int_rate',\n",
    "                    'grade',\n",
    "                    'sub_grade',\n",
    "                    'emp_length',\n",
    "                    'home_ownership',\n",
    "                    'verification_status',\n",
    "                    'issue_d',\n",
    "                    'loan_status',\n",
    "                    'purpose',\n",
    "                    'addr_state',\n",
    "                    'delinq_2yrs',\n",
    "                    'inq_last_6mths',\n",
    "                    'open_acc',\n",
    "                    'pub_rec',\n",
    "                    'revol_util',\n",
    "                    'out_prncp','out_prncp_inv','total_rec_late_fee','recoveries','collection_recovery_fee',\n",
    "                    'last_pymnt_d',\n",
    "                    'last_credit_pull_d',\n",
    "                    \n",
    "                    'pub_rec_bankruptcies',\n",
    "                    'loanPeriod',\n",
    "                    'zip_code_num',\n",
    "                    'dti_level','salary_range','int_rate%','int_rate_range',\n",
    "                    'loan_amt_range','loan_installment_range','int_rate_outlier',\n",
    "                    'total_acc'\n",
    "                  ],axis=1)"
   ]
  },
  {
   "cell_type": "code",
   "execution_count": 73,
   "metadata": {},
   "outputs": [
    {
     "data": {
      "text/html": [
       "<div>\n",
       "<style scoped>\n",
       "    .dataframe tbody tr th:only-of-type {\n",
       "        vertical-align: middle;\n",
       "    }\n",
       "\n",
       "    .dataframe tbody tr th {\n",
       "        vertical-align: top;\n",
       "    }\n",
       "\n",
       "    .dataframe thead th {\n",
       "        text-align: right;\n",
       "    }\n",
       "</style>\n",
       "<table border=\"1\" class=\"dataframe\">\n",
       "  <thead>\n",
       "    <tr style=\"text-align: right;\">\n",
       "      <th></th>\n",
       "      <th>loan_amnt</th>\n",
       "      <th>funded_amnt</th>\n",
       "      <th>funded_amnt_inv</th>\n",
       "      <th>installment</th>\n",
       "      <th>annual_inc</th>\n",
       "      <th>dti</th>\n",
       "      <th>revol_bal</th>\n",
       "      <th>total_pymnt</th>\n",
       "      <th>total_pymnt_inv</th>\n",
       "      <th>total_rec_prncp</th>\n",
       "      <th>total_rec_int</th>\n",
       "      <th>last_pymnt_amnt</th>\n",
       "    </tr>\n",
       "  </thead>\n",
       "  <tbody>\n",
       "    <tr>\n",
       "      <th>0</th>\n",
       "      <td>5000</td>\n",
       "      <td>5000</td>\n",
       "      <td>4975.0</td>\n",
       "      <td>162.87</td>\n",
       "      <td>24000.0</td>\n",
       "      <td>27.65</td>\n",
       "      <td>13648</td>\n",
       "      <td>5863.155187</td>\n",
       "      <td>5833.84</td>\n",
       "      <td>5000.00</td>\n",
       "      <td>863.16</td>\n",
       "      <td>171.62</td>\n",
       "    </tr>\n",
       "    <tr>\n",
       "      <th>1</th>\n",
       "      <td>2500</td>\n",
       "      <td>2500</td>\n",
       "      <td>2500.0</td>\n",
       "      <td>59.83</td>\n",
       "      <td>30000.0</td>\n",
       "      <td>1.00</td>\n",
       "      <td>1687</td>\n",
       "      <td>1008.710000</td>\n",
       "      <td>1008.71</td>\n",
       "      <td>456.46</td>\n",
       "      <td>435.17</td>\n",
       "      <td>119.66</td>\n",
       "    </tr>\n",
       "    <tr>\n",
       "      <th>2</th>\n",
       "      <td>2400</td>\n",
       "      <td>2400</td>\n",
       "      <td>2400.0</td>\n",
       "      <td>84.33</td>\n",
       "      <td>12252.0</td>\n",
       "      <td>8.72</td>\n",
       "      <td>2956</td>\n",
       "      <td>3005.666844</td>\n",
       "      <td>3005.67</td>\n",
       "      <td>2400.00</td>\n",
       "      <td>605.67</td>\n",
       "      <td>649.91</td>\n",
       "    </tr>\n",
       "    <tr>\n",
       "      <th>3</th>\n",
       "      <td>10000</td>\n",
       "      <td>10000</td>\n",
       "      <td>10000.0</td>\n",
       "      <td>339.31</td>\n",
       "      <td>49200.0</td>\n",
       "      <td>20.00</td>\n",
       "      <td>5598</td>\n",
       "      <td>12231.890000</td>\n",
       "      <td>12231.89</td>\n",
       "      <td>10000.00</td>\n",
       "      <td>2214.92</td>\n",
       "      <td>357.48</td>\n",
       "    </tr>\n",
       "    <tr>\n",
       "      <th>4</th>\n",
       "      <td>3000</td>\n",
       "      <td>3000</td>\n",
       "      <td>3000.0</td>\n",
       "      <td>67.79</td>\n",
       "      <td>80000.0</td>\n",
       "      <td>17.94</td>\n",
       "      <td>27783</td>\n",
       "      <td>3513.330000</td>\n",
       "      <td>3513.33</td>\n",
       "      <td>2475.94</td>\n",
       "      <td>1037.39</td>\n",
       "      <td>67.79</td>\n",
       "    </tr>\n",
       "  </tbody>\n",
       "</table>\n",
       "</div>"
      ],
      "text/plain": [
       "   loan_amnt  funded_amnt  funded_amnt_inv  installment  annual_inc    dti  \\\n",
       "0       5000         5000           4975.0       162.87     24000.0  27.65   \n",
       "1       2500         2500           2500.0        59.83     30000.0   1.00   \n",
       "2       2400         2400           2400.0        84.33     12252.0   8.72   \n",
       "3      10000        10000          10000.0       339.31     49200.0  20.00   \n",
       "4       3000         3000           3000.0        67.79     80000.0  17.94   \n",
       "\n",
       "   revol_bal   total_pymnt  total_pymnt_inv  total_rec_prncp  total_rec_int  \\\n",
       "0      13648   5863.155187          5833.84          5000.00         863.16   \n",
       "1       1687   1008.710000          1008.71           456.46         435.17   \n",
       "2       2956   3005.666844          3005.67          2400.00         605.67   \n",
       "3       5598  12231.890000         12231.89         10000.00        2214.92   \n",
       "4      27783   3513.330000          3513.33          2475.94        1037.39   \n",
       "\n",
       "   last_pymnt_amnt  \n",
       "0           171.62  \n",
       "1           119.66  \n",
       "2           649.91  \n",
       "3           357.48  \n",
       "4            67.79  "
      ]
     },
     "execution_count": 73,
     "metadata": {},
     "output_type": "execute_result"
    }
   ],
   "source": [
    "out_filt_df.head()"
   ]
  },
  {
   "cell_type": "code",
   "execution_count": 74,
   "metadata": {},
   "outputs": [
    {
     "name": "stdout",
     "output_type": "stream",
     "text": [
      "      loan_amnt  funded_amnt  funded_amnt_inv  installment  annual_inc    dti  \\\n",
      "0.05     2400.0       2400.0      1873.658000       71.246     24000.0   2.13   \n",
      "0.95    25000.0      25000.0     24736.572264      762.996    142000.0  23.84   \n",
      "\n",
      "      revol_bal   total_pymnt  total_pymnt_inv  total_rec_prncp  \\\n",
      "0.05      321.8   1887.957036         1420.408         1339.842   \n",
      "0.95    41656.4  30245.118530        29627.236        24999.982   \n",
      "\n",
      "      total_rec_int  last_pymnt_amnt  \n",
      "0.05        186.168           43.340  \n",
      "0.95       7575.812        12183.944  \n"
     ]
    }
   ],
   "source": [
    "low = .05\n",
    "high = .95\n",
    "quant_df = out_filt_df.quantile([low, high])\n",
    "print(quant_df)"
   ]
  },
  {
   "cell_type": "code",
   "execution_count": 75,
   "metadata": {},
   "outputs": [],
   "source": [
    "out_filt_df = out_filt_df.apply(lambda x: x[(x>quant_df.loc[low,x.name]) & \n",
    "                                    (x < quant_df.loc[high,x.name])], axis=0)"
   ]
  },
  {
   "cell_type": "code",
   "execution_count": 76,
   "metadata": {},
   "outputs": [
    {
     "data": {
      "text/plain": [
       "loan_amnt          12.957647\n",
       "funded_amnt        11.872388\n",
       "funded_amnt_inv     9.993957\n",
       "installment         9.993957\n",
       "annual_inc         10.552954\n",
       "dti                10.014101\n",
       "revol_bal           9.993957\n",
       "total_pymnt         9.993957\n",
       "total_pymnt_inv     9.993957\n",
       "total_rec_prncp     9.993957\n",
       "total_rec_int       9.993957\n",
       "last_pymnt_amnt     9.993957\n",
       "dtype: float64"
      ]
     },
     "execution_count": 76,
     "metadata": {},
     "output_type": "execute_result"
    }
   ],
   "source": [
    "out_filt_df.isnull().sum()*100/out_filt_df.shape[0] "
   ]
  },
  {
   "cell_type": "code",
   "execution_count": null,
   "metadata": {},
   "outputs": [],
   "source": []
  }
 ],
 "metadata": {
  "kernelspec": {
   "display_name": "Python 3",
   "language": "python",
   "name": "python3"
  },
  "language_info": {
   "codemirror_mode": {
    "name": "ipython",
    "version": 3
   },
   "file_extension": ".py",
   "mimetype": "text/x-python",
   "name": "python",
   "nbconvert_exporter": "python",
   "pygments_lexer": "ipython3",
   "version": "3.8.8"
  }
 },
 "nbformat": 4,
 "nbformat_minor": 2
}
